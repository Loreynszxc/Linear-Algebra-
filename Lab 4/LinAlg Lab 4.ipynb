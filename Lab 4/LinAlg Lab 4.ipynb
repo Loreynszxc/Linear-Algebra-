{
 "cells": [
  {
   "cell_type": "markdown",
   "metadata": {},
   "source": [
    "# Linear Algebra for CpE\n",
    "## Laboratory 4 : Vector Operations"
   ]
  },
  {
   "cell_type": "markdown",
   "metadata": {},
   "source": [
    "Now that you have a fundamental knowledge about linear combination, we'll try to apply the fundamental operations"
   ]
  },
  {
   "cell_type": "markdown",
   "metadata": {},
   "source": [
    "### Objectives\n",
    "At the end of this activity you will be able to:\n",
    "1. Referesh knowledge on vector operations while being familiar with new operations such as products.\n",
    "2. Visualize vector operations.\n",
    "3. Perform vector operations using Python."
   ]
  },
  {
   "cell_type": "markdown",
   "metadata": {},
   "source": [
    "## Discussion"
   ]
  },
  {
   "cell_type": "code",
   "execution_count": 2,
   "metadata": {},
   "outputs": [],
   "source": [
    "import numpy as np\n",
    "import matplotlib.pyplot as plt\n",
    "%matplotlib inline"
   ]
  },
  {
   "cell_type": "markdown",
   "metadata": {},
   "source": [
    "We have dealt with some of the vector operations in the last module, now we will dwell into more operations. In this laboratory, we will tackle addition,multiplication,division and the inner product of a vector."
   ]
  },
  {
   "cell_type": "markdown",
   "metadata": {},
   "source": [
    "## Vector Addition"
   ]
  },
  {
   "cell_type": "markdown",
   "metadata": {},
   "source": [
    "We have encountered vector before especially with your last activity. Vector addition is simply the element-wise addition of the scalar values of the vectors. Let's take the following vectors as a sample:\n",
    "\n",
    "$$A = \\begin{bmatrix}1\\\\2\\\\0\\end{bmatrix}, B= \\begin{bmatrix}3\\\\1\\\\-2 \\end{bmatrix}$$\n",
    "\n",
    "So if do a vector addition of these two vectors we'll get:\n",
    "\n",
    "$$A + B = \\begin{bmatrix}4\\\\3\\\\-2\\end{bmatrix}$$\n",
    "\n",
    "We can progammatically solve this using `np.add()` or simply using `+`."
   ]
  },
  {
   "cell_type": "code",
   "execution_count": 3,
   "metadata": {},
   "outputs": [],
   "source": [
    "A = np.array([1,2,0])\n",
    "B = np.array([3,1,-2])"
   ]
  },
  {
   "cell_type": "code",
   "execution_count": 4,
   "metadata": {},
   "outputs": [
    {
     "data": {
      "text/plain": [
       "array([ 4,  3, -2])"
      ]
     },
     "execution_count": 4,
     "metadata": {},
     "output_type": "execute_result"
    }
   ],
   "source": [
    "A+B"
   ]
  },
  {
   "cell_type": "code",
   "execution_count": 5,
   "metadata": {},
   "outputs": [
    {
     "data": {
      "text/plain": [
       "array([ 4,  3, -2])"
      ]
     },
     "execution_count": 5,
     "metadata": {},
     "output_type": "execute_result"
    }
   ],
   "source": [
    "np.add(A,B)"
   ]
  },
  {
   "cell_type": "markdown",
   "metadata": {},
   "source": [
    "## Vector Subtraction"
   ]
  },
  {
   "cell_type": "markdown",
   "metadata": {},
   "source": [
    "Vector subtraction is similar to your vector addition but you would need to scale the second vector using a negative scalar that is usuall $-1$. So if we subtract vector $B$ from vector $A$ we get:\n",
    "\n",
    "$$A-B = \\begin{bmatrix}-2\\\\1\\\\2\\end{bmatrix}$$\n",
    "\n",
    "In Python, this can be achieved by using `np.subtract()` or `-`"
   ]
  },
  {
   "cell_type": "code",
   "execution_count": 6,
   "metadata": {},
   "outputs": [
    {
     "data": {
      "text/plain": [
       "array([-2,  1,  2])"
      ]
     },
     "execution_count": 6,
     "metadata": {},
     "output_type": "execute_result"
    }
   ],
   "source": [
    "np.subtract(A,B)"
   ]
  },
  {
   "cell_type": "code",
   "execution_count": 7,
   "metadata": {},
   "outputs": [
    {
     "data": {
      "text/plain": [
       "array([-2,  1,  2])"
      ]
     },
     "execution_count": 7,
     "metadata": {},
     "output_type": "execute_result"
    }
   ],
   "source": [
    "A-B"
   ]
  },
  {
   "cell_type": "markdown",
   "metadata": {},
   "source": [
    "## Vector Multiplication"
   ]
  },
  {
   "cell_type": "markdown",
   "metadata": {},
   "source": [
    "Vector multiplication, like addition does its operations element-wise. So basic vector multiplication can be achieved by multiplying the elements or the scalars of the vectors individually. So:\n",
    "$$A * B = \\begin{bmatrix}3\\\\2\\\\0\\end{bmatrix}$$\n",
    "We can implement this in code by using `np.multiply()` or simply operating with `*`."
   ]
  },
  {
   "cell_type": "code",
   "execution_count": 8,
   "metadata": {},
   "outputs": [
    {
     "data": {
      "text/plain": [
       "array([3, 2, 0])"
      ]
     },
     "execution_count": 8,
     "metadata": {},
     "output_type": "execute_result"
    }
   ],
   "source": [
    "np.multiply(A,B)"
   ]
  },
  {
   "cell_type": "code",
   "execution_count": 9,
   "metadata": {},
   "outputs": [
    {
     "data": {
      "text/plain": [
       "array([3, 2, 0])"
      ]
     },
     "execution_count": 9,
     "metadata": {},
     "output_type": "execute_result"
    }
   ],
   "source": [
    "A*B"
   ]
  },
  {
   "cell_type": "markdown",
   "metadata": {},
   "source": [
    "## Vector Division"
   ]
  },
  {
   "cell_type": "markdown",
   "metadata": {},
   "source": [
    "Dividing a vector by another is uncommon, but if the situation specifies that each elements or scalars of the vector would be divided individually we can perform this by:\n",
    "$$A./B = \\begin{bmatrix}\\frac{1}{3}\\\\2\\\\0\\end{bmatrix}$$\n",
    "Take note that the notation we used here is $./$ for element-wise division, this notation is based in a MATLab notation for element-wise division. This can be achieved in Python using `np.divide()` or `/`."
   ]
  },
  {
   "cell_type": "code",
   "execution_count": 10,
   "metadata": {},
   "outputs": [
    {
     "data": {
      "text/plain": [
       "array([ 0.33333333,  2.        , -0.        ])"
      ]
     },
     "execution_count": 10,
     "metadata": {},
     "output_type": "execute_result"
    }
   ],
   "source": [
    "np.divide(A,B)"
   ]
  },
  {
   "cell_type": "code",
   "execution_count": 11,
   "metadata": {},
   "outputs": [
    {
     "data": {
      "text/plain": [
       "array([ 0.33333333,  2.        , -0.        ])"
      ]
     },
     "execution_count": 11,
     "metadata": {},
     "output_type": "execute_result"
    }
   ],
   "source": [
    "A/B"
   ]
  },
  {
   "cell_type": "markdown",
   "metadata": {},
   "source": [
    "## Modulus of a Vector"
   ]
  },
  {
   "cell_type": "markdown",
   "metadata": {},
   "source": [
    "The modulus of a vector or the magnitude of a vector can be determined using the Pythagorean theorem. Given the vector $A$ and its scalars denoted as $a_n$ where $n$ is the index of the scalar. So if we have:\n",
    "$$A = \\begin{bmatrix}1\\\\2\\end{bmatrix}$$\n",
    "We can compute the magnitude as:\n",
    "$$||A|| = \\sqrt{a_1^2 + a_2^2} = \\sqrt{1^2 + 2^2} = \\sqrt{5}$$\n",
    "So if we have a matrix with more parameters such as:\n",
    "$$B=\\begin{bmatrix}2\\\\5\\\\-1\\\\0\\end{bmatrix}$$\n",
    "We can generalize the Pythagorean theorem to compute for the magnitude as:\n",
    "$$||B|| = \\sqrt{b_1^2 + b_2^2 + b_3^2 + ... +b_n^2} = \\sqrt{\\sum_{n=1}^{N}b_n^2}$$\n",
    "And this equation is now called a Euclidian distance or the Euclidean Norm. We can implement this explicitly by for loops or using `np.linalg.norm()` to get the Euclidian Norm."
   ]
  },
  {
   "cell_type": "code",
   "execution_count": 12,
   "metadata": {},
   "outputs": [],
   "source": [
    "A = np.array([1,2])\n",
    "B = np.array([2,5,-1,0])"
   ]
  },
  {
   "cell_type": "code",
   "execution_count": 13,
   "metadata": {},
   "outputs": [
    {
     "data": {
      "text/plain": [
       "2.23606797749979"
      ]
     },
     "execution_count": 13,
     "metadata": {},
     "output_type": "execute_result"
    }
   ],
   "source": [
    "np.linalg.norm(A)"
   ]
  },
  {
   "cell_type": "code",
   "execution_count": 14,
   "metadata": {},
   "outputs": [
    {
     "data": {
      "text/plain": [
       "5.477225575051661"
      ]
     },
     "execution_count": 14,
     "metadata": {},
     "output_type": "execute_result"
    }
   ],
   "source": [
    "np.linalg.norm(B)"
   ]
  },
  {
   "cell_type": "markdown",
   "metadata": {},
   "source": [
    "## Vector Dot Product / Inner Product"
   ]
  },
  {
   "cell_type": "markdown",
   "metadata": {},
   "source": [
    "The inner product of a vector is the sum of the products of each elements of the vectors. So given vectors $H$ and $G$ below:\n",
    "$$H=\\begin{bmatrix}1\\\\3\\\\6\\end{bmatrix}, G = \\begin{bmatrix}5\\\\2\\\\1\\end{bmatrix}$$\n",
    "We first take the element-wise product of the vectors:\n",
    "$$H*G = \\begin{bmatrix}5\\\\6\\\\6\\end{bmatrix}$$\n",
    "Then we take the sum of the products, making it the inner product of a vector:\n",
    "$$H\\cdot G = 17$$\n",
    "You can solve for the inner product using an explicit function, `np.inner()` or the `@` operator."
   ]
  },
  {
   "cell_type": "code",
   "execution_count": 15,
   "metadata": {},
   "outputs": [],
   "source": [
    "H = np.array([1,3,6])\n",
    "G = np.array([5,2,1])"
   ]
  },
  {
   "cell_type": "code",
   "execution_count": 16,
   "metadata": {},
   "outputs": [
    {
     "data": {
      "text/plain": [
       "17"
      ]
     },
     "execution_count": 16,
     "metadata": {},
     "output_type": "execute_result"
    }
   ],
   "source": [
    "np.inner(H,G)"
   ]
  },
  {
   "cell_type": "code",
   "execution_count": 17,
   "metadata": {},
   "outputs": [
    {
     "data": {
      "text/plain": [
       "17"
      ]
     },
     "execution_count": 17,
     "metadata": {},
     "output_type": "execute_result"
    }
   ],
   "source": [
    "H @ G"
   ]
  },
  {
   "cell_type": "markdown",
   "metadata": {},
   "source": [
    "## Activity"
   ]
  },
  {
   "cell_type": "markdown",
   "metadata": {},
   "source": [
    "### Task 1"
   ]
  },
  {
   "cell_type": "markdown",
   "metadata": {},
   "source": [
    "Make an explicit function (not using any of NumPy's preset functions) solving the modulus of a vector using the Euclidian Norm formula: \n",
    "$$||X|| = \\sqrt{\\sum_{n=1}^{N}x_n^2}$$\n",
    "Create a program flowchart for your algorithm and explain it in your methodology. Create 6 different vectors which their element count should not be lower than 4 elements. Explain the results at the results discussion section while comparing them to the `np.linalg.norm()` function."
   ]
  },
  {
   "cell_type": "code",
   "execution_count": 18,
   "metadata": {},
   "outputs": [
    {
     "name": "stdout",
     "output_type": "stream",
     "text": [
      "The modulus of the vector A using the created function: 5.477225575051661\n",
      "The modulus of the vector A using the np.linalg.norm() function: 5.477225575051661 \n",
      "\n",
      "The modulus of the vector B using the created function: 10.954451150103322\n",
      "The modulus of the vector B using the np.linalg.norm() function: 10.954451150103322 \n",
      "\n",
      "The modulus of the vector C using the created function: 15.905973720586866\n",
      "The modulus of the vector C using the np.linalg.norm() function: 15.905973720586866 \n",
      "\n",
      "The modulus of the vector D using the created function: 21.908902300206645\n",
      "The modulus of the vector D using the np.linalg.norm() function: 21.908902300206645 \n",
      "\n",
      "The modulus of the vector E using the created function: 27.386127875258307\n",
      "The modulus of the vector E using the np.linalg.norm() function: 27.386127875258307 \n",
      "\n",
      "The modulus of the vector F using the created function: 32.863353450309965\n",
      "The modulus of the vector F using the np.linalg.norm() function: 32.863353450309965 \n",
      "\n"
     ]
    }
   ],
   "source": [
    "def euclidnorm(vec):\n",
    "    sumofvec = 0\n",
    "    for iteration in range(len(vec)):\n",
    "        sumofvec += vec[iteration]**2\n",
    "    answer = sumofvec**(1/2)\n",
    "    return print(\"The modulus of the vector\", letter, \"using the created function:\",answer)\n",
    "    \n",
    "\n",
    "\n",
    "\n",
    "A = [1,2,3,4]\n",
    "B = [2,4,6,8]\n",
    "C = [3,6,8,12]\n",
    "D = [4,8,12,16]\n",
    "E = [5,10,15,20]\n",
    "F = [6,12,18,24]\n",
    "\n",
    "listofvec = [A,B,C,D,E,F]\n",
    "listoflet = [\"A\",\"B\",\"C\",\"D\",\"E\",\"F\"]\n",
    "\n",
    "for display,letter in zip(listofvec,listoflet):\n",
    "    euclidnorm(display)\n",
    "    print(\"The modulus of the vector\", letter, \"using the np.linalg.norm() function:\", np.linalg.norm(display), \"\\n\" )\n"
   ]
  },
  {
   "cell_type": "markdown",
   "metadata": {},
   "source": [
    "### Task 2"
   ]
  },
  {
   "cell_type": "markdown",
   "metadata": {},
   "source": [
    "Make an explicit function (not using any of NumPy's preset functions nor the `@` operator) solving the inner product of two vectors using the inner product formula: \n",
    "$$A\\cdot B = \\sum_{n=1}^{N} a_n \\times b_n $$\n",
    "$$whereas: N = len(A) = len(B)$$\n",
    "Create a program flowchart for your algorithm and explain it in your methodology. Create 5 distinct pairs vectors which their element count should not be lower than 5 elements. Explain the results at the results discussion section while comparing them to the `np.inner()` function."
   ]
  },
  {
   "cell_type": "code",
   "execution_count": 19,
   "metadata": {},
   "outputs": [
    {
     "name": "stdout",
     "output_type": "stream",
     "text": [
      "The dot product using the created function: 110\n",
      "The product using the np.inner() function: 110 \n",
      "\n",
      "The dot product using the created function: 648\n",
      "The product using the np.inner() function: 648 \n",
      "\n",
      "The dot product using the created function: 1650\n",
      "The product using the np.inner() function: 1650 \n",
      "\n",
      "The dot product using the created function: 3080\n",
      "The product using the np.inner() function: 3080 \n",
      "\n",
      "The dot product using the created function: 4950\n",
      "The product using the np.inner() function: 4950 \n",
      "\n"
     ]
    }
   ],
   "source": [
    "def dotprod(first_mat,second_mat):\n",
    "    answer = 0\n",
    "    for product in range(len(first_mat)):\n",
    "        answer += first_mat[product]*second_mat[product]\n",
    "    print(\"The dot product using the created function:\", answer)\n",
    "    \n",
    "A = [1,2,3,4,5]\n",
    "B = [2,4,6,8,10]\n",
    "\n",
    "C = [3,6,8,12,15]\n",
    "D = [4,8,12,16,20]\n",
    "\n",
    "E = [5,10,15,20,25]\n",
    "F = [6,12,18,24,30]\n",
    "\n",
    "G = [7,14,21,28,35]\n",
    "H = [8,16,24,32,40]\n",
    "\n",
    "I = [9,18,27,36,45]\n",
    "J = [10,20,30,40,50]\n",
    "\n",
    "dotprod(A,B)\n",
    "print(\"The product using the np.inner() function:\", np.inner(A,B), \"\\n\")\n",
    "\n",
    "dotprod(C,D)\n",
    "print(\"The product using the np.inner() function:\", np.inner(C,D), \"\\n\")\n",
    "\n",
    "dotprod(E,F)\n",
    "print(\"The product using the np.inner() function:\", np.inner(E,F), \"\\n\")\n",
    "\n",
    "dotprod(G,H)\n",
    "print(\"The product using the np.inner() function:\", np.inner(G,H), \"\\n\")\n",
    "\n",
    "dotprod(I,J)\n",
    "print(\"The product using the np.inner() function:\", np.inner(I,J), \"\\n\")"
   ]
  },
  {
   "cell_type": "code",
   "execution_count": 20,
   "metadata": {},
   "outputs": [
    {
     "name": "stdout",
     "output_type": "stream",
     "text": [
      "Vectors A and B :\n",
      "The dot product using the created function: 110\n",
      "The product using the np.inner() function: 110 \n",
      "\n",
      "Vectors C and D :\n",
      "The dot product using the created function: 648\n",
      "The product using the np.inner() function: 648 \n",
      "\n",
      "Vectors E and F :\n",
      "The dot product using the created function: 1650\n",
      "The product using the np.inner() function: 1650 \n",
      "\n",
      "Vectors G and H :\n",
      "The dot product using the created function: 3080\n",
      "The product using the np.inner() function: 3080 \n",
      "\n",
      "Vectors I and J :\n",
      "The dot product using the created function: 4950\n",
      "The product using the np.inner() function: 4950 \n",
      "\n"
     ]
    }
   ],
   "source": [
    "def dotprod(first_vec,second_vec):\n",
    "    answer = 0\n",
    "    for product in range(len(first_vec)):\n",
    "        answer += first_vec[product]*second_vec[product]\n",
    "    return print(\"The dot product using the created function:\", answer)\n",
    "    \n",
    "A = [1,2,3,4,5]\n",
    "B = [2,4,6,8,10]\n",
    "\n",
    "C = [3,6,8,12,15]\n",
    "D = [4,8,12,16,20]\n",
    "\n",
    "E = [5,10,15,20,25]\n",
    "F = [6,12,18,24,30]\n",
    "\n",
    "G = [7,14,21,28,35]\n",
    "H = [8,16,24,32,40]\n",
    "\n",
    "I = [9,18,27,36,45]\n",
    "J = [10,20,30,40,50]\n",
    "\n",
    "fveclist = [A,C,E,G,I]\n",
    "sveclist = [B,D,F,H,J]\n",
    "str_fveclist = [\"A\",\"C\",\"E\",\"G\",\"I\"]\n",
    "str_sveclist = [\"B\",\"D\",\"F\",\"H\",\"J\"]\n",
    "\n",
    "for first,second,str_f,str_s in zip(fveclist,sveclist,str_fveclist,str_sveclist):\n",
    "    print(\"Vectors\",str_f,\"and\",str_s,\":\")\n",
    "    dotprod(first,second)\n",
    "    print(\"The product using the np.inner() function:\", np.inner(first,second), \"\\n\")"
   ]
  },
  {
   "cell_type": "markdown",
   "metadata": {},
   "source": [
    "### Task 3"
   ]
  },
  {
   "cell_type": "markdown",
   "metadata": {},
   "source": [
    "Code the following vector operation and solve them using the given vector values"
   ]
  },
  {
   "cell_type": "markdown",
   "metadata": {},
   "source": [
    "$$ ((A^2 + B^2 + C^2) * (A * (B + A*B)./C))*||A + B + C||$$\n",
    "$$A = \\begin{bmatrix}-0.4\\\\0.3\\\\-0.6\\end{bmatrix}, B = \\begin{bmatrix}-0.2\\\\0.2\\\\1\\end{bmatrix}, C = \\begin{bmatrix}0.2\\\\-0.1\\\\-0.5\\end{bmatrix}$$"
   ]
  },
  {
   "cell_type": "markdown",
   "metadata": {},
   "source": [
    "Create a program flowchart for your algorithm and explain it in your methodology. In your results, compare your answer to the expected output, visualize, and explain the resulting vector using a 3D plot."
   ]
  },
  {
   "cell_type": "code",
   "execution_count": 21,
   "metadata": {},
   "outputs": [
    {
     "name": "stdout",
     "output_type": "stream",
     "text": [
      "[0.34769805 1.13001866 0.6953961 ]\n"
     ]
    },
    {
     "data": {
      "image/png": "[encoded data removed]",
      "text/plain": [
       "<Figure size 432x288 with 1 Axes>"
      ]
     },
     "metadata": {
      "needs_background": "light"
     },
     "output_type": "display_data"
    }
   ],
   "source": [
    "A = np.array([-0.4,0.3,-0.6])\n",
    "B = np.array([-0.2,0.2,1])\n",
    "C = np.array([0.2,0.1,-0.5])\n",
    "\n",
    "term1 = A@A+B@B+C@C\n",
    "term2 = A*(B+A*B)/C\n",
    "term3 = np.linalg.norm(A+B+C)\n",
    "term4 = term1*term2*term3\n",
    " \n",
    "print(term4)\n",
    "fig = plt.figure()\n",
    "ax = fig.gca(projection='3d')\n",
    "ax.set_xlim(0,1)\n",
    "ax.set_ylim(0,1)\n",
    "ax.set_zlim(0,1)\n",
    "\n",
    "ax.quiver(0,0,0,term4[0],term4[1],term4[2])\n",
    "plt.show()"
   ]
  },
  {
   "cell_type": "markdown",
   "metadata": {},
   "source": [
    "Expected answer: <br>\n",
    "`array([0.34769805, 1.13001866, 0.6953961 ])`"
   ]
  },
  {
   "cell_type": "markdown",
   "metadata": {},
   "source": [
    "## Conclusion guide"
   ]
  },
  {
   "cell_type": "markdown",
   "metadata": {},
   "source": [
    "For your conclusion synthesize the concept and application of the laboratory. Briefly discuss what you have learn and achieved in this activity. "
   ]
  },
  {
   "cell_type": "code",
   "execution_count": 22,
   "metadata": {},
   "outputs": [],
   "source": [
    "A = np.array([2,1])\n",
    "B = np.array([3,5])"
   ]
  },
  {
   "cell_type": "code",
   "execution_count": 35,
   "metadata": {},
   "outputs": [
    {
     "name": "stdout",
     "output_type": "stream",
     "text": [
      "[5 6]\n",
      "[5 6]\n"
     ]
    }
   ],
   "source": [
    "## Addition\n",
    "print(np.add(A,B))\n",
    "print(A+B)\n"
   ]
  },
  {
   "cell_type": "code",
   "execution_count": 24,
   "metadata": {},
   "outputs": [
    {
     "data": {
      "text/plain": [
       "array([-1, -4])"
      ]
     },
     "execution_count": 24,
     "metadata": {},
     "output_type": "execute_result"
    }
   ],
   "source": [
    "## Subtraction\n",
    "np.subtract(A,B)"
   ]
  },
  {
   "cell_type": "code",
   "execution_count": 26,
   "metadata": {},
   "outputs": [
    {
     "data": {
      "text/plain": [
       "array([0.66666667, 0.2       ])"
      ]
     },
     "execution_count": 26,
     "metadata": {},
     "output_type": "execute_result"
    }
   ],
   "source": [
    "## Division\n",
    "np.divide(A,B)"
   ]
  },
  {
   "cell_type": "code",
   "execution_count": 36,
   "metadata": {},
   "outputs": [
    {
     "name": "stdout",
     "output_type": "stream",
     "text": [
      "[6 5]\n",
      "[6 5]\n"
     ]
    }
   ],
   "source": [
    "## Multiplication\n",
    "print(np.multiply(A,B))\n",
    "print(A*B)"
   ]
  },
  {
   "cell_type": "code",
   "execution_count": 31,
   "metadata": {},
   "outputs": [
    {
     "name": "stdout",
     "output_type": "stream",
     "text": [
      "2.23606797749979\n",
      "5.830951894845301\n"
     ]
    }
   ],
   "source": [
    "## Modulus of a vector\n",
    "print(np.linalg.norm(A))\n",
    "print(np.linalg.norm(B))"
   ]
  },
  {
   "cell_type": "code",
   "execution_count": 34,
   "metadata": {},
   "outputs": [
    {
     "data": {
      "text/plain": [
       "11"
      ]
     },
     "execution_count": 34,
     "metadata": {},
     "output_type": "execute_result"
    }
   ],
   "source": [
    "## Dot/Inner Product\n",
    "np.inner(A,B)"
   ]
  }
 ],
 "metadata": {
  "kernelspec": {
   "display_name": "Python 3",
   "language": "python",
   "name": "python3"
  },
  "language_info": {
   "codemirror_mode": {
    "name": "ipython",
    "version": 3
   },
   "file_extension": ".py",
   "mimetype": "text/x-python",
   "name": "python",
   "nbconvert_exporter": "python",
   "pygments_lexer": "ipython3",
   "version": "3.7.6"
  }
 },
 "nbformat": 4,
 "nbformat_minor": 4
}
