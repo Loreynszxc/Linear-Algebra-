{
 "cells": [
  {
   "cell_type": "markdown",
   "metadata": {},
   "source": [
    "<h1>Linear Algebra (CpE210A)</h1>\n"
   ]
  },
  {
   "cell_type": "markdown",
   "metadata": {},
   "source": [
    "<h3>Laboratory 2: Plotting Vectors using NumPy and MatPlotLib</h3>\n",
    "    \n"
   ]
  },
  {
   "cell_type": "markdown",
   "metadata": {},
   "source": [
    "<p>Coded and submitted by:<br>Guy, Lawrence Adrian, B.<br>58010 </p>"
   ]
  },
  {
   "cell_type": "markdown",
   "metadata": {},
   "source": [
    "<h2> Part 1: Skyline Eagle Fly </h2>\n",
    "<h3>Lab exercises:</h3>\n",
    "<p>You are tasked to make a tracking device for Philippine Eagles at the Philippine Eagle Center at Davao. The tracker sensors only give the longitudinal and latitudinal distance (meters) of the eagle's position relative to their nests which we will treat as the origin of the tracking view. We want to determine the relative <b>displacement</b> of the eagle from its nest. It is expected that the eagles will change exactly two times, it can then be assumed that the program will show three displacements. Please make a prototype code using the additional information given below: <br> <br>\n",
    "Consider the computational algorithm: <br> \n",
    "Let the eagle's longitudinal and latitudinal be  $long$  and  $lat$  respectively. <br>\n",
    "Let the eagle's total distance as  $dist_{total}$ , displacement be  $disp$ , and  $θ$  as the direction of the vector. "
   ]
  },
  {
   "cell_type": "markdown",
   "metadata": {},
   "source": [
    "$ _{(Eq.1)}dist_{total}=(long_{total})\\hat{x}+(lat_{total})\\hat{y} $ <br>\n",
    "$ _{(Eq.2)}disp = \\sqrt{dist_{x}^2+dist_{y}^2}$ <br>\n",
    "$ _{(Eq.3)}\\theta = arctan(\\frac{y}{\\alpha+x})$\n"
   ]
  },
  {
   "cell_type": "code",
   "execution_count": 3,
   "metadata": {},
   "outputs": [],
   "source": [
    "import numpy as np\n",
    "import matplotlib.pyplot as plt\n",
    "import matplotlib\n",
    "\n",
    "\n",
    "%matplotlib inline"
   ]
  },
  {
   "cell_type": "code",
   "execution_count": 4,
   "metadata": {},
   "outputs": [],
   "source": [
    "def track_eagle(make_figs=True):\n",
    "    long = np.random.randint(-10,10, size=3) ## since we don't actually have eagle tracking data we will use\n",
    "    lat = np.random.randint(-10,10, size=3)  ## random integers for this activity. These two lines will produce\n",
    "                                             ## a vector with shape of (3,) describing the distances for the \n",
    "                                             ## eagle's flight.\n",
    "    \n",
    "    dist1 = np.array([long[0],lat[0]])                            ## setup the array for each vector for the eagle's flight.  \n",
    "    dist2 = np.array([long[1],lat[1]])         \n",
    "    dist3 = np.array([long[2],lat[2]])           \n",
    "    \n",
    "    \n",
    "\n",
    "    \n",
    "    dist_total = np.add(np.add(dist1,dist2),dist3)          ## compute for the resultant vector for the eagle's flight.\n",
    "   \n",
    "  \n",
    "\n",
    "    disp = np.sqrt((dist_total[0]**2)+(dist_total[1]**2))             ## compute for the magnitude of the displacement\n",
    "    alpha = 10**-6\n",
    "    theta =  np.arctan(dist_total[1]/(dist_total[0]+alpha))              ## compute for the angle of the displacement. Hint\n",
    "    theta = np.degrees(theta)                                          ## convert theta from rad to deg.\n",
    "     \n",
    "    ## Plotting the PH Eagle flight vectors.\n",
    "    plt.figure(figsize=(10,10))\n",
    "    plt.title('Philippine Eagle Flight Plotter')\n",
    "    plt.xlim(-30, 30)\n",
    "    plt.ylim(-30, 30)\n",
    "    plt.xlabel('Latitudinal Distance')\n",
    "    plt.ylabel('Longitudinal Distance')\n",
    "    plt.grid()\n",
    "    \n",
    "    \n",
    "    ### Self-discovery code block (Refer to guide question 2 for the task)\n",
    "    \n",
    "    plt.quiver(0,0, dist1[0], dist1[1], \n",
    "               angles='xy', scale_units='xy',scale=1, color='red', \n",
    "               label='Trajectory 1: {:.2f}m.'.format(np.linalg.norm(dist1)))\n",
    "    plt.quiver(dist1[0], dist1[1], dist2[0], dist2[1], \n",
    "               angles='xy', scale_units='xy',scale=1, color='blue',\n",
    "               label='Trajectory 2: {:.2f}m.'.format(np.linalg.norm(dist2)))\n",
    "    plt.quiver(np.add(dist1[0],dist2[0]), np.add(dist1[1],dist2[1]),\n",
    "               dist3[0], dist3[1], angles='xy', scale_units='xy',scale=1, color='green',\n",
    "               label='Trajectory 3: {:.2f}m.'.format(np.linalg.norm(dist3)))\n",
    "    plt.quiver(0,0, dist_total[0], dist_total[1], \n",
    "               angles='xy', scale_units='xy',scale=1, color='orange',\n",
    "               label='Displacement: {:.2f}m. @ {:.2f}'.format(disp, theta))\n",
    "    \n",
    "    plt.legend()\n",
    "    \n",
    "    if make_figs:\n",
    "        plt.savefig(f'LinAlg-Lab2-PH Eagle-{int(disp)}@{int(theta)}.png', dpi=300)\n",
    "    \n",
    "    plt.show()\n",
    "    \n",
    "    \n",
    "## END OF FUNCTION  "
   ]
  },
  {
   "cell_type": "code",
   "execution_count": 5,
   "metadata": {},
   "outputs": [
    {
     "data": {
      "image/png": "[encoded data removed]",
      "text/plain": [
       "<Figure size 720x720 with 1 Axes>"
      ]
     },
     "metadata": {
      "needs_background": "light"
     },
     "output_type": "display_data"
    }
   ],
   "source": [
    "track_eagle(make_figs=False)"
   ]
  },
  {
   "cell_type": "markdown",
   "metadata": {},
   "source": [
    "<p> The use of the variable α is to add some value to X so that when X becomes 0 when calculating for the theta, it wouldn't result to an undefined value or NaN. The value of α is small to the point that there's no visible change to the outcome when it is added. The eagle flight vectors would be plotted using the quiver function. <br><br> \n",
    "The three variables dist1, dist2 and dist3 would serve as the flight direction of the eagle. It will then be used to the quiver function to plot the vectors. The quiver function has many parameters, first is X,Y second is U,V then angles, scale_units, scale, and color are used to modify the arrows that is being plotted and lastly is label which will be the label of the arrow. The value passed in Tracectory 1 is 0,0 as it starts in the origin then the head, U,V, is dist1[0] and dist1[1]. Second is the Trajectory 2 which the tail would be on the head of the first trajectory, dist1[0] and dist1[1], and the head would be at dist2[0], dist2[1]. Third is the Tracjectory 3 wherein the tail would be the sum of the X,Y values of trajectory 1 and 2, and the head would be dist3[0] and dist3[1]. Lastly, to plot the displacement, the head would be on the origin, then using the distance formula to calculate U and V values of the displacement vector. <img src=\"Flowchart Eagle Plotter.jpeg\"> </p>"
   ]
  },
  {
   "cell_type": "markdown",
   "metadata": {},
   "source": [
    "<h2>Part 2: Reverse Engineering</h2>\n",
    "<p> Your project manager found out that the previous engineer that handled the project did some sort of algorithm regarding the eagles. He gave you the piece code for you to analyze and required you to make a documentation out of it. The code is given below. </p>\n"
   ]
  },
  {
   "cell_type": "code",
   "execution_count": 6,
   "metadata": {},
   "outputs": [],
   "source": [
    "def eagle_kinematics(spd, time): \n",
    "    req_shape = 4 #Used for condition on spd.shape\n",
    "    \n",
    "    vel = np.zeros(req_shape-1) #Variable was never used\n",
    "    accel = np.zeros(req_shape-2) #Variable was never used\n",
    "    \n",
    "    time_vect = np.array([time**3, time**2, time, 1]) #time_vect was used as the variable of the equations\n",
    "    \n",
    "    if spd.shape == (req_shape,): #Limits the shape of spd to only 4\n",
    "        vel = np.array([3*spd[0],2*spd[1], spd[2]]) #Creates an array for velocity, [6,2,3]\n",
    "        accel = np.array([2*vel[0],vel[1]])#Creates an array for acceleration, [12,2]\n",
    "        spd_t = np.sum(np.multiply(spd, time_vect)) #Multiplying the arrays of spd and time_vect then getting the sum to get the value of speed \n",
    "        vel_t = np.sum(np.multiply(vel,  time_vect[1:])) #Multiplying the arrays of vel and time_vect then geting the sum to get the value of veloctiy\n",
    "        accel_t = np.sum(np.multiply(accel, time_vect[2:])) #Multiplying the arrays of accel and time_vect then geting the sum to get the value of acceleration\n",
    "\n",
    "        \n",
    "    else:\n",
    "        print(f'Input displacement vector is not valid. Make sure that the vector shape is ({req_shape},)') #Will display if the value of req_shape changes from 4\n",
    "    \n",
    "    return spd_t, vel_t, accel_t "
   ]
  },
  {
   "cell_type": "code",
   "execution_count": 7,
   "metadata": {},
   "outputs": [
    {
     "data": {
      "text/plain": [
       "(28, 31, 26)"
      ]
     },
     "execution_count": 7,
     "metadata": {},
     "output_type": "execute_result"
    }
   ],
   "source": [
    "spd = np.array([2,1,3,2])\n",
    "time = 2\n",
    "eagle_kinematics(spd, time)"
   ]
  },
  {
   "cell_type": "markdown",
   "metadata": {},
   "source": [
    "<p> The function is used to calculate the kinematics of the eagle. First is to create a function named eagle_kinematics with two parameters spd and time. Inside the function, initialized a variable named req_shape equal to 4. This would be useful later to limit the value passed to the spd parameter to only 4. Second is to initialize a variable named time_vect as an array of the parameter time raise to 3 then subtracting 1 until the exponent reaches 0. Third is making a conditional statement wherein if spd.shape == req_shape which is 4 it would run the codes below else it would print \"Input displacement vector is not valid. Make sure that the vector shape is (4,)\" . As I said earlier, this is to limit the elements inside the array of spd to only 4. Below the conditional statement is the vel and accel variables wherein vel is an array with 3 elements and accel is an array with 2 elements. Then below that are spdt_t, vel_t and accel_t which each of them computes for the speed, velocity and acceleration respectively. Lastly, returning the values of spd_t,vel_t and accel_t.\n"
   ]
  },
  {
   "cell_type": "markdown",
   "metadata": {},
   "source": [
    "<p><b>Equations:</b></p>\n",
    "$t=2$<br>\n",
    "$s(t) = 2t^3+t^2+3t+2$ <br>\n",
    "$v(t) = 6t^2+2t+3$ <br>\n",
    "$a(t) = 12t+2$"
   ]
  },
  {
   "cell_type": "markdown",
   "metadata": {},
   "source": [
    "<p> Using the equations derived from the previous eagle_kinematics function </p>"
   ]
  },
  {
   "cell_type": "code",
   "execution_count": 8,
   "metadata": {},
   "outputs": [],
   "source": [
    "def eagle_kinematics(spd, vel,accel,time): \n",
    "    time_vect = np.array([time**3, time**2, time, 1])\n",
    "    if(spd.shape == (4,) and vel.shape == (3,) and accel.shape == (2,)):\n",
    "        spd_t = np.sum(np.multiply(spd,time_vect))\n",
    "        vel_t = np.sum(np.multiply(vel,time_vect[1:]))\n",
    "        accel_t = np.sum(np.multiply(accel,time_vect[2:]))\n",
    "    return spd_t,vel_t,accel_t\n",
    "        "
   ]
  },
  {
   "cell_type": "code",
   "execution_count": 9,
   "metadata": {},
   "outputs": [
    {
     "data": {
      "text/plain": [
       "(28, 31, 26)"
      ]
     },
     "execution_count": 9,
     "metadata": {},
     "output_type": "execute_result"
    }
   ],
   "source": [
    "spd = np.array([2,1,3,2])\n",
    "vel = np.array([6,2,3])\n",
    "accel = np.array([12,2])\n",
    "time = 2\n",
    "eagle_kinematics(spd,vel,accel,time)"
   ]
  },
  {
   "cell_type": "markdown",
   "metadata": {},
   "source": [
    "<h2>Part 3: Bebang's Online Business</h2><p>You have a friend named Bebang who has an online business in which she sells donuts. She asks you to make something that helps her to observe the increase and decrease of her profit considering the reach of her online posts. As novice data analytic engineers, you suggest to make a plotter using vectors of her weekly profit and FB post reach for a month. She is amazed that you have this idea and will pay you 15,000 PHP for the program. Thus you venture in implementing your idea with the PH Eagle Tracker as the base code.</p>"
   ]
  },
  {
   "cell_type": "code",
   "execution_count": 10,
   "metadata": {},
   "outputs": [],
   "source": [
    "def month_profit_trace(profit, reach, make_figs=True): ## You can simplify/ optimize this code for extra points\n",
    "    if (profit.shape == (4,))  and (reach.shape == (4,)) :\n",
    "        week1 = np.array([reach[0], profit[0]])       \n",
    "        week2 = np.array([reach[1], profit[1]])\n",
    "        week3 = np.array([reach[2], profit[2]])\n",
    "        week4 = np.array([reach[3], profit[3]])\n",
    "        print(week1)\n",
    "\n",
    "        week_total = week1+week2+week3+week4     \n",
    "        week_performance = np.sqrt((week_total[0]**2)+(week_total[1]**2))\n",
    "        alpha = 10**-6\n",
    "        reach_gradient = np.degrees(np.arctan(week_total[1]/week_total[0]))\n",
    "    \n",
    "\n",
    "        plt.figure(figsize=(16,5))\n",
    "        plt.title('Bebang\\'s Month Post Efficiency')\n",
    "        plt.xlim(0,1.01*np.sum(reach))\n",
    "        plt.ylim(-np.sum(np.abs(profit)),np.sum(np.abs(profit)))\n",
    "        plt.xlabel('FB Post Reach Increment')\n",
    "        plt.ylabel('Profit')\n",
    "        plt.grid()\n",
    "        \n",
    "        ## put necessary vector plotting code here\n",
    "        plt.quiver(0,0, week1[0], week1[1], \n",
    "                   angles='xy', scale_units='xy',scale=1, color='yellowgreen', width=0.0025,\n",
    "                   label='Week 1: {:.2f}'.format(np.linalg.norm(week1)))\n",
    "        \n",
    "        plt.quiver(week1[0],week1[1], week2[0], week2[1], \n",
    "                   angles='xy', scale_units='xy',scale=1, color='blue', width=0.0025,\n",
    "                   label='Week 2: {:.2f}'.format(np.linalg.norm(week2)))\n",
    "        plt.quiver(np.add(week1[0], week2[0]), np.add(week1[1], week2[1]), week3[0], week3[1], \n",
    "                   angles='xy', scale_units='xy',scale=1, color='orange', width=0.0025,\n",
    "                   label='Week 3: {:.2f}'.format(np.linalg.norm(week3)))\n",
    "        \n",
    "        plt.quiver(week1[0]+week2[0]+week3[0],week1[1]+week2[1]+week3[1], week4[0], week4[1], \n",
    "                   angles='xy', scale_units='xy',scale=1, color='yellow', width=0.0025,\n",
    "                   label='Week 4: {:.2f}'.format(np.linalg.norm(week4)))\n",
    "\n",
    "        plt.quiver(0,0, week_total[0], week_total[1], \n",
    "                   angles='xy', scale_units='xy',scale=1, color='red', width=0.005,\n",
    "                  label='Efficiency: {:.2f} @ {:.2f}'.format(week_performance, reach_gradient))\n",
    "\n",
    "        plt.legend(loc='upper left')\n",
    "\n",
    "        if make_figs:\n",
    "            plt.savefig(f'LinAlg-Lab2-Bebang Post Eff-{int(week_performance)}@{int(reach_gradient)}.png', dpi=300)\n",
    "\n",
    "        plt.show()\n",
    "    \n",
    "    else:\n",
    "        print('Profit and Reach should only have 4 elements as it represent number of weeks in a mo.') ## Make a more appropriate error statement. \n",
    "\n",
    "## END OF FUNCTION  "
   ]
  },
  {
   "cell_type": "code",
   "execution_count": 12,
   "metadata": {},
   "outputs": [
    {
     "name": "stdout",
     "output_type": "stream",
     "text": [
      "[  1000 -18000]\n"
     ]
    },
    {
     "data": {
      "image/png": "[encoded data removed]",
      "text/plain": [
       "<Figure size 1152x360 with 1 Axes>"
      ]
     },
     "metadata": {
      "needs_background": "light"
     },
     "output_type": "display_data"
    }
   ],
   "source": [
    "profit= np.array([-18000, 3000, 12000, 10000])    ## You can change the values to make different scenarios\n",
    "# reach = np.array([10, 500, 100, 1000])             ## You can change the values to make different scenarios\n",
    "reach = np.array([1000, 100, 500, 10])    \n",
    "\n",
    "month_profit_trace(profit, reach, make_figs=False) ## Toggle 'make_figs' during debugging or making documentations"
   ]
  },
  {
   "cell_type": "markdown",
   "metadata": {},
   "source": [
    "<p> The relationship between Reach and Profit is that both are used to plot the necessary vectors to compute for the efficiency. The profit is the Y-axis because we are finding the increase and decrease of the profit consering the FB reach. If profit is in X-axis we wouldn't be able to see the difference when the profit decreases or increases. <br> <br>\n",
    "     The values of week1, week2, week3 and week4 comes from the array of reach and profit. Using the same concept on the first cell, the values of week1 to week4 will be plotted using the quiver function. First vector would be from the origin to reach[0] and profit[0]. Second vector would be the U,V values of the first vector then the U,V of the second vector would be reach[1] and profit[1]. Third vector's X and Y would be the addition of the arrays of week1 and week2 and the U and V would be week3[0] and week3[1]. Fourth vector's X and Y would be the addition of the arrays of week1, week2 and week3 and its U and V is week4[0] and week4[1].  Then to plot the efficiency, I used the distance formula the same from cell 1 to find the efficiency. <br>\n",
    "$Performance_{week} = \\sqrt{week total_{x}^2+week total_{y}^2}$ <br>\n",
    "$Reach Gradient = arctan(\\frac{y}{\\alpha+x})$\n",
    "<p> From my observation the vectors are directly proportional to the post efficiency. Whenever reach or profit goes up the efficiency goes up and when the reach or profit goes down efficiency also goes down </p>\n",
    "    \n",
    "    \n",
    "   "
   ]
  },
  {
   "cell_type": "code",
   "execution_count": 26,
   "metadata": {},
   "outputs": [],
   "source": [
    "A = np.array([5, 9])\n",
    "B = np.array([10, -5])\n",
    "C = np.array([\n",
    "    [5,3],\n",
    "    [9,8]\n",
    "])"
   ]
  },
  {
   "cell_type": "code",
   "execution_count": 32,
   "metadata": {},
   "outputs": [
    {
     "name": "stdout",
     "output_type": "stream",
     "text": [
      "Vector A [5 9]\n",
      "Vector B [10 -5]\n",
      "Vector C [[5 3]\n",
      " [9 8]]\n",
      "vector.shape:\n",
      "(2,)\n",
      "(2, 2)\n",
      "vector.size:\n",
      "2\n",
      "4\n",
      "vector.ndim\n",
      "1\n",
      "1\n",
      "2\n"
     ]
    }
   ],
   "source": [
    "print(\"Vector A\",A)\n",
    "print(\"Vector B\",B)\n",
    "print(\"Vector C\",C)\n",
    "## Describing Vectors\n",
    "## Shape count the number of rows and columns of the vector\n",
    "print(\"vector.shape:\")\n",
    "print(A.shape)\n",
    "print(C.shape)\n",
    "\n",
    "## Size counts the total number of elements inside a vector\n",
    "print(\"vector.size:\")\n",
    "print(A.size)\n",
    "print(C.size)\n",
    "\n",
    "## Ndim counts the dimension of the vector\n",
    "print(\"vector.ndim:\")\n",
    "print(A.ndim)\n",
    "print(B.ndim)\n",
    "print(C.ndim)"
   ]
  },
  {
   "cell_type": "code",
   "execution_count": 39,
   "metadata": {},
   "outputs": [
    {
     "name": "stdout",
     "output_type": "stream",
     "text": [
      "Addition:\n",
      "[15  4]\n",
      "Multiplication\n",
      "[ 50 -45]\n",
      "Scaling\n",
      "[15 27]\n"
     ]
    }
   ],
   "source": [
    "## Vector operations\n",
    "\n",
    "## Addition\n",
    "print(\"Addition:\")\n",
    "vec_sum = A + B\n",
    "print(vec_sum)\n",
    "\n",
    "## Multiplication\n",
    "vec_prod = A*B\n",
    "print(\"Multiplication\")\n",
    "print(vec_prod)\n",
    "\n",
    "## Scaling\n",
    "## Scaling multiplies a scalar value in this case 3 to the vector\n",
    "print(\"Scaling\")\n",
    "scaled_A = A*3\n",
    "print(scaled_A)"
   ]
  },
  {
   "cell_type": "code",
   "execution_count": 47,
   "metadata": {},
   "outputs": [
    {
     "data": {
      "image/png": "[encoded data removed]",
      "text/plain": [
       "<Figure size 432x288 with 1 Axes>"
      ]
     },
     "metadata": {
      "needs_background": "light"
     },
     "output_type": "display_data"
    }
   ],
   "source": [
    "plt.xlim(20,-20)\n",
    "plt.ylim(20,-20)\n",
    "\n",
    "\n",
    "plt.quiver(0,0, A[0], A[1], angles='xy', scale_units='xy',scale=1, color='red') # Red --> A\n",
    "plt.quiver(A[0], A[1], B[0], B[1], angles='xy', scale_units='xy',scale=1, color='b') # Blue --> B\n",
    "R = A+B\n",
    "plt.quiver(0,0,R[0],R[1],angles = 'xy',scale_units='xy',scale=1,color='g')\n",
    "plt.grid()\n",
    "plt.show()"
   ]
  }
 ],
 "metadata": {
  "kernelspec": {
   "display_name": "Python 3",
   "language": "python",
   "name": "python3"
  },
  "language_info": {
   "codemirror_mode": {
    "name": "ipython",
    "version": 3
   },
   "file_extension": ".py",
   "mimetype": "text/x-python",
   "name": "python",
   "nbconvert_exporter": "python",
   "pygments_lexer": "ipython3",
   "version": "3.7.6"
  }
 },
 "nbformat": 4,
 "nbformat_minor": 4
}
