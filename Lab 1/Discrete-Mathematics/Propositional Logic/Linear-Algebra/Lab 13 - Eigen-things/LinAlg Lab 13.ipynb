{
 "cells": [
  {
   "cell_type": "markdown",
   "metadata": {},
   "source": [
    "# Linear Algebra for CpE\n",
    "## Laboratory 13 : Eigen-things"
   ]
  },
  {
   "cell_type": "markdown",
   "metadata": {},
   "source": [
    "We are now going to use the cumulative concepts of matrix algebra, systems of linear equations, and linear transformations to understand the concept and applications of solving for eigenvalues and eigenvectors. "
   ]
  },
  {
   "cell_type": "markdown",
   "metadata": {},
   "source": [
    "### Objectives\n",
    "At the end of this activity you will be able to:\n",
    "1. Be familiar with the concept of eigen-stuffs.\n",
    "2. Solve for eigen values and eigen vectors.\n",
    "3. Write eigen-solutions in Python code."
   ]
  },
  {
   "cell_type": "markdown",
   "metadata": {},
   "source": [
    "## Discussion"
   ]
  },
  {
   "cell_type": "code",
   "execution_count": null,
   "metadata": {},
   "outputs": [],
   "source": [
    "import numpy as np\n",
    "import matplotlib.pyplot as plt\n",
    "%matplotlib inline"
   ]
  },
  {
   "cell_type": "markdown",
   "metadata": {},
   "source": [
    "## Eigen"
   ]
  },
  {
   "cell_type": "markdown",
   "metadata": {},
   "source": [
    "In our lesson, <b>eigen</b> does not denote famous actors but rather coming from a German etymology meining \"characteristic\". So we can say in analogy, that solving for the <b>eigen</b> of anything is finiding their characteristics."
   ]
  },
  {
   "cell_type": "markdown",
   "metadata": {},
   "source": [
    "### Eigenvectors"
   ]
  },
  {
   "cell_type": "markdown",
   "metadata": {},
   "source": [
    "Referring to our definition of eigen earlier, we can deduct that eigenvectors are characteristic vectors or representative vectors of a matrix. In the more technical sense, these are vectors that can be considered constant/unchanging even when a linear transformation. So whether if we do any geometric translation, that vector in the span of the matrix will not translate to a different vector but rather just scale —meaning it is linearly dependent from its original vector."
   ]
  },
  {
   "cell_type": "markdown",
   "metadata": {},
   "source": [
    "So for example we'll have a matrix $x$ wherein we apply a matrix transformation $F$ it gives us a resulting vector $A$.\n",
    "$$F\\cdot x = A$$\n",
    "So in matrix $x$ there would exist a vector $v$ upond having a reultant matrix $A$ it will just be a scalar transform of itself (eigenvector). We can denote the scaling factor as $\\lambda$. We can then define the eigenvector as:\n",
    "$$A\\cdot v = \\lambda * v$$"
   ]
  },
  {
   "cell_type": "code",
   "execution_count": null,
   "metadata": {},
   "outputs": [],
   "source": [
    "def plot_quiv(x,y=None,eig=None):\n",
    "    size= (5,5)\n",
    "    plt.figure(figsize=(4,4))\n",
    "          \n",
    "    plt.xlim(-size[0],size[0])\n",
    "    plt.ylim(-size[1],size[1])\n",
    "    plt.xticks(np.arange((-size[0]), size[0]+1, 1.0))\n",
    "    plt.yticks(np.arange((-size[1]), size[1]+1, 1.0))\n",
    "    \n",
    "\n",
    "    plt.quiver([0,0],[0,0], x[0,:], x[1,:], \n",
    "               angles='xy', scale_units='xy',scale=1, \n",
    "               color=['red','red'], label='Original Vector')## use column spaces\n",
    "    if y is not None:\n",
    "        plt.quiver([0,0],[0,0], y[0,:], y[1,:], \n",
    "               angles='xy', scale_units='xy',scale=1, \n",
    "               color=['blue','blue'], label='Transformed Vector')## use column spaces\n",
    "    if eig is not None:\n",
    "        c = np.arange(-10,10,0.25)\n",
    "        plt.plot(c*eig[0,1],c*eig[0,0], color='orange') \n",
    "        plt.plot(c*eig[1,1], c*eig[1,0], color='orange', label='Eigenspace') \n",
    "\n",
    "        \n",
    "    plt.grid()\n",
    "    plt.legend()\n",
    "    plt.show()"
   ]
  },
  {
   "cell_type": "code",
   "execution_count": null,
   "metadata": {},
   "outputs": [],
   "source": [
    "## Let's try to determine that manually\n",
    "x = np.array([\n",
    "    [1,-1],\n",
    "    [0,2]\n",
    "])\n",
    "plot_quiv(x)\n"
   ]
  },
  {
   "cell_type": "code",
   "execution_count": null,
   "metadata": {},
   "outputs": [],
   "source": [
    "F = np.array([\n",
    "    [-2, 1.5],\n",
    "    [0, 1]\n",
    "])\n",
    "A = F@x\n",
    "plot_quiv(x,A)\n"
   ]
  },
  {
   "cell_type": "markdown",
   "metadata": {},
   "source": [
    "In the linear transformation above, we can see that the first vector (red) did not shift or rotate to any other coordinate in the 2D space. We can say that the first vector is an eigenvector since it remains on its span even if a linear transformation is applied. But do note there could be more than one eigenvector for a matrix, and most of the times these vectors cannot be identified through visual inspection. We can try to solve this using the formula we set above.\n",
    "$$(A \\cdot v) - (\\lambda * v) = 0 $$\n",
    "$$(A-\\lambda)\\cdot v = 0$$\n",
    "Assuming that $v$ is non-zero, well try to solve for $A-\\lambda$ in which it will equate to 0. Take note that $A$ is a vector and $\\lambda$ is a scalar. "
   ]
  },
  {
   "cell_type": "markdown",
   "metadata": {},
   "source": [
    "Initially we cannot perform a matrix and lambda subtraction (except considering Broadcasting), with that we must turn $\\lambda$ from a scalar to a scalar matrix by multiplying it with $I$.So if we have $A = \\begin{bmatrix} a & b \\\\ c & d\\end{bmatrix}$ and a scalar matrix $\\lambda$ as $\\begin{bmatrix}\\lambda & 0 \\\\ 0 & \\lambda\\end{bmatrix}$ we would have:\n",
    "$$A - \\lambda = \\begin{bmatrix}a-\\lambda & b \\\\ c & d-\\lambda\\end{bmatrix}$$\n"
   ]
  },
  {
   "cell_type": "markdown",
   "metadata": {},
   "source": [
    "Now, what's left would be solving for $\\lambda$s wherein $(A - \\lambda) \\cdot v = 0$. Since the requirement is that transformation of the vector is that it would stay on the same span, it is a <b>linearly dependent vector</b>. Recalling one of the methods to determine linearly depenent vectors is when their determinant is equal to zero. So we can say in our case:\n",
    "$$det(A-\\lambda) \\cdot v = 0\\\\ \\mbox{or} \\\\ det \\left( \\begin{bmatrix}a-\\lambda & b \\\\ c & d-\\lambda\\end{bmatrix} \\right) = 0$$\n",
    "By solving for the determinant we will have a polynomial equation:\n",
    "$$(a-\\lambda)(d-\\lambda) - cb = 0 \\\\ ad - d\\lambda - a\\lambda + \\lambda^2 - cb = 0 \\\\ \\mbox{or} \\\\ \\lambda^2 - ad(\\lambda) + ad -cb = 0 \\\\ \\lambda^2 - (a+d)\\lambda + ad - cb = 0$$\n",
    "We can then solve for $\\lambda$ by getting the root of the polynomial. The roots that would be find are the <b>eigenvalues</b>."
   ]
  },
  {
   "cell_type": "markdown",
   "metadata": {},
   "source": [
    "So given $A$ earlier as $\\begin{bmatrix}-2 & 5 \\\\ 0 & 2\\end{bmatrix}$ we can try to solve for the eigenvalues as\n",
    "$$det \\left( \\begin{bmatrix}-2-\\lambda & 5 \\\\ 0 & 2-\\lambda\\end{bmatrix} \\right) = 0$$\n",
    "The eigenvalues could then be solved as:\n",
    "$$ \\lambda^2 - (-2+2)\\lambda + (-2*2) - (0*5) = 0 \\\\ \\lambda^2 - 4 = 0 $$\n",
    "You can use the quadratic formula to solve for the roots of the polymial. But for ease of discussion we'll use the `np.roots()` function."
   ]
  },
  {
   "cell_type": "code",
   "execution_count": null,
   "metadata": {},
   "outputs": [],
   "source": [
    "coeff = [1, 0, -4]\n",
    "eigvals = np.around(np.roots(coeff),3)\n",
    "eigvals"
   ]
  },
  {
   "cell_type": "markdown",
   "metadata": {},
   "source": [
    "The eigevalues are then $\\lambda_1 = 2$ and $\\lambda_2 = -2$"
   ]
  },
  {
   "cell_type": "markdown",
   "metadata": {},
   "source": [
    "The next step would be re-substituting both $\\lambda$ in to the $A-\\lambda = 0$ equation, that would yield\n",
    "$$\\begin{bmatrix}-2-(2) & 5 \\\\ 0 & 2-(2)\\end{bmatrix} = \n",
    "\\begin{bmatrix}-4 & \\ 5 \\\\ 0 & 0\\end{bmatrix} = 0 \\\\ \n",
    "\\mbox{and} \\\\\n",
    "\\begin{bmatrix}-2-(-2) & 5\\\\ 0 & 2-(-2)\\end{bmatrix}= \n",
    "\\begin{bmatrix}0 & \\ 5 \\\\ 0 & 4\\end{bmatrix} =0$$\n",
    "Lastly, to solve for the <b>eigenvectors</b> we need to solve these matrices as system of linear equations equating to 0."
   ]
  },
  {
   "cell_type": "code",
   "execution_count": null,
   "metadata": {},
   "outputs": [],
   "source": [
    "eigm1 = A-(eigvals[0]*np.eye((2))).astype(\"int32\")\n",
    "print(eigm1)\n",
    "eigm2 = A-(eigvals[1]*np.eye((2))).astype(\"int32\")\n",
    "print(eigm2)"
   ]
  },
  {
   "cell_type": "markdown",
   "metadata": {},
   "source": [
    "Beyond this point this requires sophisticated algorithms to perfrom programatically such as power iterations. It could be assumed that solving the eigenvectors was already demonstrated during the lecture. <br>\n",
    "But then again, we can implement this simpler using built in NumPy functions"
   ]
  },
  {
   "cell_type": "code",
   "execution_count": null,
   "metadata": {},
   "outputs": [],
   "source": [
    "eigval, eigvect = np.linalg.eig(A)\n",
    "print(eigval)\n",
    "print(eigvect)\n",
    "plot_quiv(A,eig=eigvect)"
   ]
  },
  {
   "cell_type": "code",
   "execution_count": null,
   "metadata": {},
   "outputs": [],
   "source": [
    "def plot_tr_eig(inp, trans, eig, q1=False):\n",
    "    \n",
    "    \n",
    "    \n",
    "    c1 = np.arange(-5, 5, 0.5)\n",
    "    c2 = np.arange(-5, 5, 0.5)\n",
    "    \n",
    "    if q1:\n",
    "        c1 = np.arange(0, 5, 0.5)\n",
    "        c2 = np.arange(0, 5, 0.5)\n",
    "    \n",
    "    X,Y= np.meshgrid(c1, c2)\n",
    "\n",
    "    v = np.array([X.flatten(),Y.flatten()])\n",
    "\n",
    "    A = F@inp@v\n",
    "    \n",
    "\n",
    "    fig, ax = plt.subplots()\n",
    "    \n",
    "    size= (5,5)\n",
    "    fig.set_size_inches(10,10)\n",
    "          \n",
    "    ax.set_xlim(-size[0],size[0])\n",
    "    ax.set_ylim(-size[1],size[1])\n",
    "    ax.set_xticks(np.arange((-size[0]), size[0]+1, 1.0))\n",
    "    ax.set_yticks(np.arange((-size[1]), size[1]+1, 1.0))\n",
    "    \n",
    "    if q1:\n",
    "        ax.set_xlim(0,size[0])\n",
    "        ax.set_ylim(0,size[1])\n",
    "        ax.set_xticks(np.arange(0, size[0]+1, 1.0))\n",
    "        ax.set_yticks(np.arange(0, size[1]+1, 1.0))\n",
    "\n",
    "    q = ax.quiver(X, Y,\n",
    "                  A[0,:].reshape(int(np.sqrt(A[0,:].size)), int(np.sqrt(A[0,:].size))), \n",
    "                  A[1,:].reshape(int(np.sqrt(A[1,:].size)), int(np.sqrt(A[1,:].size))),\n",
    "                 color='royalblue')\n",
    "    ax.quiverkey(q, X=0.3, Y=1.1, U=10,\n",
    "                 label='Quiver key, length = 10', labelpos='E')\n",
    "    \n",
    "    if eig is not None:\n",
    "        c = np.arange(-20,20,0.25)\n",
    "        plt.plot(c*eig[0,1],c*eig[0,0], color='orange') \n",
    "        plt.plot(c*eig[1,1], c*eig[1,0], color='orange', label='Eigenvector') \n",
    "\n",
    "    plt.show()"
   ]
  },
  {
   "cell_type": "code",
   "execution_count": null,
   "metadata": {},
   "outputs": [],
   "source": [
    "x = np.array([\n",
    "    [1,1],\n",
    "    [0,1]\n",
    "])\n",
    "F = np.array([\n",
    "    [1,2],\n",
    "    [0,2]\n",
    "])\n",
    "eigval, eigvect = np.linalg.eig(F@x)\n",
    "plot_tr_eig(x,F,eigvect)"
   ]
  },
  {
   "cell_type": "markdown",
   "metadata": {},
   "source": [
    "## Practice"
   ]
  },
  {
   "cell_type": "markdown",
   "metadata": {},
   "source": [
    "A direct way applying eigenvalues and eigenvectors is through differential equations or determining rate of change between variables. Let's say we want to determine the probabilty of surviving a pandemic or how long till the number of victims and healthy people meet equilibirium. Let's say we have a pandemic named the \"Pink Plague\". We can characterize the infection rate and recovery rate as follows:\n",
    "\n",
    "$\\mbox{Let} : \\\\ \n",
    "\\mbox{Humans} = 1-\\frac{dI}{dt} + \\frac{dR}{dt} \\\\\n",
    "\\mbox{Infected} = \\frac{dI}{dt} + 1-\\frac{dR}{dt} \\\\\n",
    "\\frac{dI}{dt} = 30\\% \\\\\n",
    "\\frac{dR}{dt} = 80\\% \\\\\n",
    "\\mbox{Non-Infected}_{population} = 70\\%N + 20\\%I \\\\\n",
    "\\mbox{Infected}_{population} = 30\\%N + 80\\%I$\n",
    "\n",
    "This will give us a system of linear equation with a linear transformation as a Markov Matrix characterizing the state of the human population:\n",
    "\n",
    "$$\n",
    "\\begin{bmatrix}0.70 & 0.20 \\\\ 0.30 & 0.80\\end{bmatrix} \\begin{bmatrix}N_0 \\\\ I_0\\end{bmatrix} = \\begin{bmatrix}N_f \\\\ I_f\\end{bmatrix}$$"
   ]
  },
  {
   "cell_type": "code",
   "execution_count": null,
   "metadata": {},
   "outputs": [],
   "source": [
    "init = np.eye(2)\n",
    "print(init.shape)\n",
    "rate = np.array([\n",
    "    [0.9, 0.2],\n",
    "    [0.1, 0.8]\n",
    "])\n",
    "eigvals, equilibrium= np.linalg.eig(rate)\n",
    "print(equilibrium)\n",
    "\n",
    "plot_tr_eig(init,rate,equilibrium, q1=True)"
   ]
  },
  {
   "cell_type": "code",
   "execution_count": null,
   "metadata": {},
   "outputs": [],
   "source": []
  },
  {
   "cell_type": "markdown",
   "metadata": {},
   "source": [
    "## Supplementary Activity"
   ]
  },
  {
   "cell_type": "markdown",
   "metadata": {},
   "source": [
    "Try to implement your own function for solving eigenvalues."
   ]
  },
  {
   "cell_type": "markdown",
   "metadata": {},
   "source": [
    "### Conclusion"
   ]
  },
  {
   "cell_type": "markdown",
   "metadata": {},
   "source": [
    "As a conclusion briefly explain the essence of eigenvectors and eigenvalues. Additionally, cite an example of using eigenvalues and eigenvectors in social sciences."
   ]
  }
 ],
 "metadata": {
  "kernelspec": {
   "display_name": "Python 3",
   "language": "python",
   "name": "python3"
  },
  "language_info": {
   "codemirror_mode": {
    "name": "ipython",
    "version": 3
   },
   "file_extension": ".py",
   "mimetype": "text/x-python",
   "name": "python",
   "nbconvert_exporter": "python",
   "pygments_lexer": "ipython3",
   "version": "3.8.3"
  }
 },
 "nbformat": 4,
 "nbformat_minor": 4
}
