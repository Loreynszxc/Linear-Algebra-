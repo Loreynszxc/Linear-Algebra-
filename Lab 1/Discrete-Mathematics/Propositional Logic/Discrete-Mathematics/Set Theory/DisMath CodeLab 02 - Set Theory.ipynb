{
 "cells": [
  {
   "cell_type": "markdown",
   "metadata": {},
   "source": [
    "# Set Theory"
   ]
  },
  {
   "cell_type": "markdown",
   "metadata": {},
   "source": [
    "This code activity will try to guide you in applying the concepts, methods, and rules of Set Theory through code. We will go through with the data types in which Set Theory can be applied, how to write them in equation form im $\\LaTeX$, and then we will try to look at a practical example through a user's requirement."
   ]
  },
  {
   "cell_type": "markdown",
   "metadata": {},
   "source": [
    "### Lists"
   ]
  },
  {
   "cell_type": "markdown",
   "metadata": {},
   "source": [
    "In Python,  the most common iterable collection are lists. In lists, elements are ordered and chageable. Lists are denoted by enclosing objects with square brackets $[ ... ]$. Lists can be accessed through their indices, negative indexing is permitted."
   ]
  },
  {
   "cell_type": "code",
   "execution_count": 1,
   "metadata": {},
   "outputs": [],
   "source": [
    "### Declaration\n",
    "employees = ['John', 'Alex', 'Winston', 'Bob', 'Golbi'] ## Best practice when making a list of objects, list variable names should be in plural form "
   ]
  },
  {
   "cell_type": "code",
   "execution_count": 2,
   "metadata": {},
   "outputs": [
    {
     "data": {
      "text/plain": [
       "'Bob'"
      ]
     },
     "execution_count": 2,
     "metadata": {},
     "output_type": "execute_result"
    }
   ],
   "source": [
    "### Single Access\n",
    "employees[-2]"
   ]
  },
  {
   "cell_type": "code",
   "execution_count": 3,
   "metadata": {},
   "outputs": [
    {
     "data": {
      "text/plain": [
       "['Golbi', 'Bob', 'Winston', 'Alex', 'John']"
      ]
     },
     "execution_count": 3,
     "metadata": {},
     "output_type": "execute_result"
    }
   ],
   "source": [
    "### Multiple Access\n",
    "employees[::-1]"
   ]
  },
  {
   "cell_type": "code",
   "execution_count": 4,
   "metadata": {},
   "outputs": [
    {
     "name": "stdout",
     "output_type": "stream",
     "text": [
      "Hi  John\n",
      "Hi  Alex\n",
      "Hi  Winston\n",
      "Hi  Bob\n",
      "Hi  Golbi\n"
     ]
    }
   ],
   "source": [
    "### Multiple Access via Loops\n",
    "for employee in employees: ## To make coding a bit more intuitive, we use the singular form of the list variable name to denote its elements.\n",
    "    print(\"Hi \",employee)"
   ]
  },
  {
   "cell_type": "code",
   "execution_count": 5,
   "metadata": {},
   "outputs": [
    {
     "name": "stdout",
     "output_type": "stream",
     "text": [
      "John\n",
      "Winston\n",
      "Golbi\n"
     ]
    }
   ],
   "source": [
    "### Multiple Access via Loops\n",
    "\n",
    "for i in range(len(employees)): ## You could also use indices for iterations.\n",
    "    if(i%2 == 0):\n",
    "        print(employees[i])"
   ]
  },
  {
   "cell_type": "code",
   "execution_count": 6,
   "metadata": {},
   "outputs": [
    {
     "name": "stdout",
     "output_type": "stream",
     "text": [
      "['John', 'Alex', 'Winston', 'John', 'Jimmy']\n"
     ]
    }
   ],
   "source": [
    "### Modifying Elements\n",
    "employees[3] = 'John'\n",
    "employees[-1] = 'Jimmy'\n",
    "print(employees)"
   ]
  },
  {
   "cell_type": "code",
   "execution_count": 7,
   "metadata": {},
   "outputs": [
    {
     "name": "stdout",
     "output_type": "stream",
     "text": [
      "['John', 'Alex', 'Ozai', 'Winston', 'John', 'Jimmy']\n"
     ]
    }
   ],
   "source": [
    "### Adding Elements\n",
    "# employees.append(\"Elfaba\")\n",
    "\n",
    "employees.insert(2, \"Ozai\")\n",
    "print(employees)"
   ]
  },
  {
   "cell_type": "code",
   "execution_count": 8,
   "metadata": {},
   "outputs": [
    {
     "data": {
      "text/plain": [
       "[]"
      ]
     },
     "execution_count": 8,
     "metadata": {},
     "output_type": "execute_result"
    }
   ],
   "source": [
    "### Removing Elements\n",
    "# employees.pop() \n",
    "\n",
    "# employees.remove(\"Ozai\")\n",
    "\n",
    "# del employees[-1]\n",
    "\n",
    "employees.clear()\n",
    "employees"
   ]
  },
  {
   "cell_type": "markdown",
   "metadata": {},
   "source": [
    "### Tuples"
   ]
  },
  {
   "cell_type": "markdown",
   "metadata": {},
   "source": [
    "Tuples are another collection data type in Python. There are several key differences between lists and tuples:\n",
    "- Tuples are ordered collections, so order cannot be rearranged or modified.\n",
    "- Since tuples are ordered collections $(a, b) \\neq (b, a)$\n",
    "- They are declared and denoted using parentheses $( ...)$"
   ]
  },
  {
   "cell_type": "code",
   "execution_count": 9,
   "metadata": {},
   "outputs": [],
   "source": [
    "### Declaration\n",
    "pix1_colors = (255, 0 , 0)  ## In image processing, this is called a tuple consisting of channels. \n",
    "                            ##It is structured as (Red, Green, Blue) such that the values in each channe; ranges from 0 - 255 \n",
    "pix2_colors = (64, 128, 111)"
   ]
  },
  {
   "cell_type": "code",
   "execution_count": 10,
   "metadata": {},
   "outputs": [
    {
     "data": {
      "text/plain": [
       "128"
      ]
     },
     "execution_count": 10,
     "metadata": {},
     "output_type": "execute_result"
    }
   ],
   "source": [
    "### Single Access\n",
    "green = pix2_colors[1]\n",
    "green"
   ]
  },
  {
   "cell_type": "code",
   "execution_count": 11,
   "metadata": {},
   "outputs": [
    {
     "ename": "TypeError",
     "evalue": "'tuple' object does not support item assignment",
     "output_type": "error",
     "traceback": [
      "\u001b[1;31m---------------------------------------------------------------------------\u001b[0m",
      "\u001b[1;31mTypeError\u001b[0m                                 Traceback (most recent call last)",
      "\u001b[1;32m<ipython-input-11-92279de707a4>\u001b[0m in \u001b[0;36m<module>\u001b[1;34m\u001b[0m\n\u001b[1;32m----> 1\u001b[1;33m \u001b[0mpix1_colors\u001b[0m\u001b[1;33m[\u001b[0m\u001b[1;36m2\u001b[0m\u001b[1;33m]\u001b[0m \u001b[1;33m=\u001b[0m \u001b[1;36m128\u001b[0m\u001b[1;33m\u001b[0m\u001b[1;33m\u001b[0m\u001b[0m\n\u001b[0m",
      "\u001b[1;31mTypeError\u001b[0m: 'tuple' object does not support item assignment"
     ]
    }
   ],
   "source": [
    "pix1_colors[2] = 128"
   ]
  },
  {
   "cell_type": "code",
   "execution_count": null,
   "metadata": {},
   "outputs": [],
   "source": [
    "### Multiple Access\n",
    "pix2_colors[::2]"
   ]
  },
  {
   "cell_type": "code",
   "execution_count": null,
   "metadata": {},
   "outputs": [],
   "source": [
    "### Multiple Access via Loops\n",
    "for color in pix2_colors:\n",
    "    print(color)"
   ]
  },
  {
   "cell_type": "code",
   "execution_count": null,
   "metadata": {},
   "outputs": [],
   "source": [
    "car_xpos = (3, 5, 12, 15)\n",
    "car_ypos = (0, 1, 5, 2)\n",
    "### Multiple Access via Parallel Iteration\n",
    "for pos in zip(car_xpos, car_ypos):\n",
    "    print(f'Coordinates of cars in ordered pair form: {pos}')"
   ]
  },
  {
   "cell_type": "code",
   "execution_count": null,
   "metadata": {},
   "outputs": [],
   "source": [
    "for px_colors in zip(pix1_colors, pix2_colors):\n",
    "    print(px_colors)"
   ]
  },
  {
   "cell_type": "code",
   "execution_count": null,
   "metadata": {},
   "outputs": [],
   "source": [
    "### Modifying Elements\n",
    "\n",
    "car_xpos[0] = 0\n"
   ]
  },
  {
   "cell_type": "code",
   "execution_count": null,
   "metadata": {},
   "outputs": [],
   "source": [
    "### Removing Elements\n",
    "\n",
    "del pix1_colors[0]\n"
   ]
  },
  {
   "cell_type": "code",
   "execution_count": null,
   "metadata": {},
   "outputs": [],
   "source": [
    "### Merging Tuples\n",
    "car_pos = car_xpos + car_ypos\n",
    "car_pos"
   ]
  },
  {
   "cell_type": "markdown",
   "metadata": {},
   "source": [
    "### Sets"
   ]
  },
  {
   "cell_type": "markdown",
   "metadata": {},
   "source": [
    "Sets are collections which are unordered and unindexed. Repititions are not allowed in set structures and they are denoted by curly brackets $\\{ ... \\}$."
   ]
  },
  {
   "cell_type": "code",
   "execution_count": null,
   "metadata": {},
   "outputs": [],
   "source": [
    "### Declaration\n",
    "bakery_A = {'bread', 'cracker', 'croissant', 'eclair', 'parfait','cannele', 'coffee','tea'}\n",
    "bakery_B = {'bread', 'croissant', 'donuts', 'cinnamon roll', 'cookies','coffee','tea'}\n",
    "bakery_C = {'bread', 'bread', 'bread'}"
   ]
  },
  {
   "cell_type": "code",
   "execution_count": null,
   "metadata": {},
   "outputs": [],
   "source": [
    "print(bakery_C)"
   ]
  },
  {
   "cell_type": "code",
   "execution_count": null,
   "metadata": {},
   "outputs": [],
   "source": [
    "### Accessing Elements\n",
    "bakery_A[0]"
   ]
  },
  {
   "cell_type": "code",
   "execution_count": null,
   "metadata": {},
   "outputs": [],
   "source": [
    "### Multiple Access via Loops\n",
    "for product in bakery_A:\n",
    "    print(product)"
   ]
  },
  {
   "cell_type": "code",
   "execution_count": null,
   "metadata": {},
   "outputs": [],
   "source": [
    "### Removing an Element\n",
    "print(bakery_A)\n",
    "bakery_A.remove('cannele')\n",
    "print(bakery_A)"
   ]
  },
  {
   "cell_type": "code",
   "execution_count": null,
   "metadata": {},
   "outputs": [],
   "source": [
    "### Membership\n",
    "# print('cannele' in bakery_A)\n",
    "### Subsets\n",
    "order = {'coffee', 'tea', 'donuts'}\n",
    "order.issubset(bakery_A)"
   ]
  },
  {
   "cell_type": "code",
   "execution_count": null,
   "metadata": {},
   "outputs": [],
   "source": [
    "### Union\n",
    "print(bakery_A)\n",
    "print(bakery_B)\n",
    "baker_st = bakery_A.union(bakery_B)\n",
    "baker_st"
   ]
  },
  {
   "cell_type": "code",
   "execution_count": null,
   "metadata": {},
   "outputs": [],
   "source": [
    "### Intersection\n",
    "bakery_A.intersection(bakery_B)"
   ]
  },
  {
   "cell_type": "code",
   "execution_count": null,
   "metadata": {},
   "outputs": [],
   "source": [
    "### Difference\n",
    "### Unique elements that is in Bakery but not in Bakery B\n",
    "bakery_B.difference(bakery_A)"
   ]
  },
  {
   "cell_type": "markdown",
   "metadata": {},
   "source": [
    "### Dictionaries"
   ]
  },
  {
   "cell_type": "markdown",
   "metadata": {},
   "source": [
    "Dictionaries are collections which is unordered, changeable like sets but are indexed. Like sets, they are denoted witn $\\{...\\}$ but objects are characterized by <b>keys</b> and described using <b>values</b>."
   ]
  },
  {
   "cell_type": "code",
   "execution_count": null,
   "metadata": {},
   "outputs": [],
   "source": [
    "### Declaration\n",
    "bakery_A_prices = {'bread' : 60, \n",
    "            'cracker': 15, \n",
    "            'croissant': 40, \n",
    "           }"
   ]
  },
  {
   "cell_type": "code",
   "execution_count": null,
   "metadata": {},
   "outputs": [],
   "source": [
    "## Accessing\n",
    "bakery_A_prices['bread']"
   ]
  },
  {
   "cell_type": "code",
   "execution_count": null,
   "metadata": {},
   "outputs": [],
   "source": [
    "## Accessing via Loops\n",
    "for product in bakery_A_prices:\n",
    "    print(product)"
   ]
  },
  {
   "cell_type": "code",
   "execution_count": null,
   "metadata": {},
   "outputs": [],
   "source": [
    "for product in bakery_A_prices:\n",
    "    print(bakery_A_prices[product])"
   ]
  },
  {
   "cell_type": "code",
   "execution_count": null,
   "metadata": {},
   "outputs": [],
   "source": [
    "for price in bakery_A_prices.values():\n",
    "    print(price)"
   ]
  },
  {
   "cell_type": "code",
   "execution_count": null,
   "metadata": {},
   "outputs": [],
   "source": [
    "for product, price in bakery_A_prices.items():\n",
    "    print(product, price)"
   ]
  },
  {
   "cell_type": "code",
   "execution_count": null,
   "metadata": {},
   "outputs": [],
   "source": [
    "## Update / Modification\n",
    "print(bakery_A_prices['bread'])\n",
    "bakery_A_prices['bread'] *= 0.8\n",
    "print(bakery_A_prices['bread'])"
   ]
  },
  {
   "cell_type": "code",
   "execution_count": null,
   "metadata": {},
   "outputs": [],
   "source": [
    "## Adding Elements\n",
    "print(bakery_A_prices)\n",
    "bakery_A_prices['coffee'] = 110\n",
    "print(bakery_A_prices)"
   ]
  },
  {
   "cell_type": "code",
   "execution_count": null,
   "metadata": {},
   "outputs": [],
   "source": [
    "## Removing Elements\n",
    "print(bakery_A_prices)\n",
    "print(bakery_A_prices.pop('cracker'))\n",
    "print(bakery_A_prices)"
   ]
  },
  {
   "cell_type": "code",
   "execution_count": null,
   "metadata": {},
   "outputs": [],
   "source": []
  },
  {
   "cell_type": "code",
   "execution_count": null,
   "metadata": {},
   "outputs": [],
   "source": []
  },
  {
   "cell_type": "code",
   "execution_count": null,
   "metadata": {},
   "outputs": [],
   "source": []
  },
  {
   "cell_type": "code",
   "execution_count": null,
   "metadata": {},
   "outputs": [],
   "source": []
  },
  {
   "cell_type": "code",
   "execution_count": null,
   "metadata": {},
   "outputs": [],
   "source": []
  },
  {
   "cell_type": "code",
   "execution_count": null,
   "metadata": {},
   "outputs": [],
   "source": []
  },
  {
   "cell_type": "code",
   "execution_count": null,
   "metadata": {},
   "outputs": [],
   "source": []
  },
  {
   "cell_type": "markdown",
   "metadata": {},
   "source": [
    "## Dataset Operations"
   ]
  },
  {
   "cell_type": "markdown",
   "metadata": {},
   "source": [
    "For this section, we will use the sets below to practice some practical dataset operations."
   ]
  },
  {
   "cell_type": "code",
   "execution_count": null,
   "metadata": {},
   "outputs": [],
   "source": [
    "cpe_courses = [\"Object-Oriented Programming\", \"Data Structures and Algorithms\", \"Discrete Mathematics\", \"Linear Algebra\",\n",
    "               \"Database Management\",\"Logic Circuits\", \"Computer Automation\",\"Digital Signals Processing\", \"Computer System Architecture and Organization\"]\n",
    "cs_courses = [\"Object-Oriented Programming\", \"Data Structures and Algorithms\", \"Automata\", \"Programming Language Theory\",\n",
    "             \"Discrete Mathematics\", \"Database Management\", \"Human Computer Interaction\", \"Information Security\", \"Information Management\"]"
   ]
  },
  {
   "cell_type": "code",
   "execution_count": null,
   "metadata": {},
   "outputs": [],
   "source": [
    "cpe = set(cpe_courses)\n",
    "cs = set(cs_courses)\n"
   ]
  },
  {
   "cell_type": "markdown",
   "metadata": {},
   "source": [
    "### Inner Join"
   ]
  },
  {
   "cell_type": "code",
   "execution_count": null,
   "metadata": {},
   "outputs": [],
   "source": [
    "## Find the common things between the sets\n",
    "## Intersection\n",
    "common = cpe.intersection(cs)\n",
    "common ## inner join"
   ]
  },
  {
   "cell_type": "markdown",
   "metadata": {},
   "source": [
    "### Left Join"
   ]
  },
  {
   "cell_type": "code",
   "execution_count": null,
   "metadata": {},
   "outputs": [],
   "source": [
    "cpe_ljoin = common.union(cpe)\n",
    "cpe_ljoin"
   ]
  },
  {
   "cell_type": "markdown",
   "metadata": {},
   "source": [
    "### Right Join"
   ]
  },
  {
   "cell_type": "code",
   "execution_count": null,
   "metadata": {},
   "outputs": [],
   "source": [
    "cs_rjoin = common.union(cs)\n",
    "cs_rjoin"
   ]
  },
  {
   "cell_type": "markdown",
   "metadata": {},
   "source": [
    "### Left Exclusive Join"
   ]
  },
  {
   "cell_type": "code",
   "execution_count": null,
   "metadata": {},
   "outputs": [],
   "source": [
    "cpe_exljoin = cpe.difference(cs)\n",
    "cpe_exljoin"
   ]
  },
  {
   "cell_type": "markdown",
   "metadata": {},
   "source": [
    "### Right Exclusive Join"
   ]
  },
  {
   "cell_type": "code",
   "execution_count": null,
   "metadata": {},
   "outputs": [],
   "source": [
    "cs_exrjoin = cs.difference(cpe)\n",
    "cs_exrjoin"
   ]
  },
  {
   "cell_type": "markdown",
   "metadata": {},
   "source": [
    "### Full Outer Join"
   ]
  },
  {
   "cell_type": "code",
   "execution_count": null,
   "metadata": {},
   "outputs": [],
   "source": [
    "## Union\n",
    "full_outer = cpe.union(cs)\n",
    "full_outer"
   ]
  },
  {
   "cell_type": "markdown",
   "metadata": {},
   "source": [
    "### Full Outer Exclusive Join"
   ]
  },
  {
   "cell_type": "code",
   "execution_count": null,
   "metadata": {},
   "outputs": [],
   "source": [
    "## XOR\n",
    "full_xouter = (cpe.difference(cs)).union(cs.difference(cpe))\n",
    "full_xouter"
   ]
  },
  {
   "cell_type": "markdown",
   "metadata": {},
   "source": [
    "## Scratch Area"
   ]
  },
  {
   "cell_type": "markdown",
   "metadata": {},
   "source": [
    "You can use the area below to try your own code."
   ]
  },
  {
   "cell_type": "code",
   "execution_count": 14,
   "metadata": {},
   "outputs": [],
   "source": [
    "# M_1 = [\"Kpop\",\"Altenartive Rock\",\"OPM\"]\n",
    "K = [\"Twice\",\"ITZY\",\"Red Velvet\",\"Dreamcatcher\",\"IZ*ONE\",\"DAY6\"]\n",
    "A = [\"Paramore\",\"Neck Deep\",\"My Chemical Romance\",\"DAY6\",\"blink-182\"]\n",
    "# O = [\"Clara Benin\",\"Munimuni\",\"Shirebound and Busking\"]\n",
    "# G = [\"MOBA\",\"Battle Royale\",\"FPS\"]\n",
    "# M_2 = [\"League of Legends\",\"DOTA 2\"]\n",
    "# F = [\"Valorant\",\"Counter-Strike: Global Offensive\"]\n",
    "# B = [\"Player's Unknown Battleground\",\"Fortnite\",\"Spellbreak\",\"Call of Duty: Warzone\"]\n",
    "\n",
    "kpop = set(K)\n",
    "AltRock = set(A)\n"
   ]
  },
  {
   "cell_type": "code",
   "execution_count": 19,
   "metadata": {},
   "outputs": [
    {
     "data": {
      "text/plain": [
       "{'DAY6'}"
      ]
     },
     "execution_count": 19,
     "metadata": {},
     "output_type": "execute_result"
    }
   ],
   "source": [
    "#Inner Join\n",
    "common = kpop.intersection(AltRock)\n",
    "common"
   ]
  },
  {
   "cell_type": "code",
   "execution_count": 22,
   "metadata": {},
   "outputs": [
    {
     "data": {
      "text/plain": [
       "{'DAY6', 'Dreamcatcher', 'ITZY', 'IZ*ONE', 'Red Velvet', 'Twice'}"
      ]
     },
     "execution_count": 22,
     "metadata": {},
     "output_type": "execute_result"
    }
   ],
   "source": [
    "# Left join\n",
    "common.union(kpop)"
   ]
  },
  {
   "cell_type": "code",
   "execution_count": 23,
   "metadata": {},
   "outputs": [
    {
     "data": {
      "text/plain": [
       "{'DAY6', 'My Chemical Romance', 'Neck Deep', 'Paramore', 'blink-182'}"
      ]
     },
     "execution_count": 23,
     "metadata": {},
     "output_type": "execute_result"
    }
   ],
   "source": [
    "# Right Join\n",
    "common.union(AltRock)"
   ]
  },
  {
   "cell_type": "code",
   "execution_count": 27,
   "metadata": {},
   "outputs": [
    {
     "data": {
      "text/plain": [
       "{'Dreamcatcher', 'ITZY', 'IZ*ONE', 'Red Velvet', 'Twice'}"
      ]
     },
     "execution_count": 27,
     "metadata": {},
     "output_type": "execute_result"
    }
   ],
   "source": [
    "# Left Exclusive Join\n",
    "kpop.difference(AltRock)"
   ]
  },
  {
   "cell_type": "code",
   "execution_count": 28,
   "metadata": {},
   "outputs": [
    {
     "data": {
      "text/plain": [
       "{'My Chemical Romance', 'Neck Deep', 'Paramore', 'blink-182'}"
      ]
     },
     "execution_count": 28,
     "metadata": {},
     "output_type": "execute_result"
    }
   ],
   "source": [
    "#Right Exclusive Join\n",
    "AltRock.difference(kpop)"
   ]
  },
  {
   "cell_type": "code",
   "execution_count": 30,
   "metadata": {},
   "outputs": [
    {
     "data": {
      "text/plain": [
       "{'DAY6',\n",
       " 'Dreamcatcher',\n",
       " 'ITZY',\n",
       " 'IZ*ONE',\n",
       " 'My Chemical Romance',\n",
       " 'Neck Deep',\n",
       " 'Paramore',\n",
       " 'Red Velvet',\n",
       " 'Twice',\n",
       " 'blink-182'}"
      ]
     },
     "execution_count": 30,
     "metadata": {},
     "output_type": "execute_result"
    }
   ],
   "source": [
    "# Full Outer Join\n",
    "kpop.union(AltRock)"
   ]
  },
  {
   "cell_type": "code",
   "execution_count": 31,
   "metadata": {},
   "outputs": [
    {
     "data": {
      "text/plain": [
       "{'Dreamcatcher',\n",
       " 'ITZY',\n",
       " 'IZ*ONE',\n",
       " 'My Chemical Romance',\n",
       " 'Neck Deep',\n",
       " 'Paramore',\n",
       " 'Red Velvet',\n",
       " 'Twice',\n",
       " 'blink-182'}"
      ]
     },
     "execution_count": 31,
     "metadata": {},
     "output_type": "execute_result"
    }
   ],
   "source": [
    "# Xor\n",
    "(kpop.difference(AltRock)).union(AltRock.difference(kpop))\n"
   ]
  }
 ],
 "metadata": {
  "kernelspec": {
   "display_name": "Python 3",
   "language": "python",
   "name": "python3"
  },
  "language_info": {
   "codemirror_mode": {
    "name": "ipython",
    "version": 3
   },
   "file_extension": ".py",
   "mimetype": "text/x-python",
   "name": "python",
   "nbconvert_exporter": "python",
   "pygments_lexer": "ipython3",
   "version": "3.7.6"
  }
 },
 "nbformat": 4,
 "nbformat_minor": 4
}
