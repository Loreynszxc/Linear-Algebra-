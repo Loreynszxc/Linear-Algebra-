{
 "cells": [
  {
   "cell_type": "code",
   "execution_count": null,
   "metadata": {},
   "outputs": [],
   "source": []
  },
  {
   "cell_type": "markdown",
   "metadata": {},
   "source": [
    "# Propositional Logic"
   ]
  },
  {
   "cell_type": "markdown",
   "metadata": {},
   "source": [
    "This code activity will try to guide you in applying the concepts, methods, and appplications of Propositional Logic through code. We will go through with the algorithms used to dervide Propositional Logic , and then we will try to look at a practical example through a user's requirement."
   ]
  },
  {
   "cell_type": "markdown",
   "metadata": {},
   "source": [
    "### Implication"
   ]
  },
  {
   "cell_type": "markdown",
   "metadata": {},
   "source": [
    "Starting with implication would make explaining propositional logic in code.\n",
    "\n",
    "Normally, we express implication or the conditional statement as $p$ implies $q$ with the logical connective $\\rightarrow$. In code, the antecedent $p$ or the premise serves as the condition argument and sometimes the parameter while the consequent $q$ is the resulting action given the condition. We formally denote this as:"
   ]
  },
  {
   "cell_type": "markdown",
   "metadata": {},
   "source": [
    "<h3>$$p\\rightarrow q$$</h3>"
   ]
  },
  {
   "cell_type": "markdown",
   "metadata": {},
   "source": [
    "We can also visualize this using a flowchart so it can be easily implemented as an algorithm."
   ]
  },
  {
   "cell_type": "markdown",
   "metadata": {},
   "source": [
    "<img src=\"img/if.jpeg\" width=150 align=\"center\"/>"
   ]
  },
  {
   "cell_type": "markdown",
   "metadata": {},
   "source": [
    "As an example, we are given a statement:"
   ]
  },
  {
   "cell_type": "markdown",
   "metadata": {},
   "source": [
    "<center>\n",
    "    <h4>\n",
    "        <i>\n",
    "\"The lights of the room will turn on if the sensor detects people.\"\n",
    "        </i>\n",
    "    </h4>  \n",
    "</center>"
   ]
  },
  {
   "cell_type": "markdown",
   "metadata": {},
   "source": [
    "<center>\n",
    "    We can then formalize this into our wff as: <br>\n",
    "    $p$ = Sensor detects people <br>\n",
    "    $q$ = The lights turn on <br>\n",
    "    $p\\rightarrow q$\n",
    "    \n",
    "</center>"
   ]
  },
  {
   "cell_type": "markdown",
   "metadata": {},
   "source": [
    "It can then be coded as such:"
   ]
  },
  {
   "cell_type": "code",
   "execution_count": null,
   "metadata": {},
   "outputs": [],
   "source": [
    "isDetected = False\n",
    "if (isDetected):\n",
    "    print(\"Turning lights on.\")"
   ]
  },
  {
   "cell_type": "markdown",
   "metadata": {},
   "source": [
    "However, when talking about conditions it is natural to add the else clause or the negative consequent. The else statement or clause can be phrased as: if not $q$ then $r$. Although the opposite reaction will be observed as the alternative consequent of $\\neg p$ it is not the same as the negation of $\\neg q$, thus it is translated as a different event $r$. It can then have the wff as:   "
   ]
  },
  {
   "cell_type": "markdown",
   "metadata": {},
   "source": [
    "<h3>$$(p\\rightarrow q)  \\land (\\neg p \\rightarrow r) $$</h3>"
   ]
  },
  {
   "cell_type": "markdown",
   "metadata": {},
   "source": [
    "And for it's flowchart:"
   ]
  },
  {
   "cell_type": "markdown",
   "metadata": {},
   "source": [
    "<img src=\"img/else.jpeg\" width=300 align=\"center\"/>"
   ]
  },
  {
   "cell_type": "markdown",
   "metadata": {},
   "source": [
    "We can also modifying the previous statement as:"
   ]
  },
  {
   "cell_type": "markdown",
   "metadata": {},
   "source": [
    "<center>\n",
    "    <h4>\n",
    "        <i>\n",
    "\"The lights of the room will turn on if the sensor detects people, otherwise the lights will turn off.\"\n",
    "        </i>\n",
    "    </h4>  \n",
    "</center>"
   ]
  },
  {
   "cell_type": "markdown",
   "metadata": {},
   "source": [
    "<center>\n",
    "    We can then formalize this into our wff as: <br>\n",
    "    $p$ = Sensor detects people <br>\n",
    "    $q$ = The lights turn on <br>\n",
    "    $r$ = The lights turn off <br>\n",
    "    $(p\\rightarrow q)\\land(\\neg p\\rightarrow r)$\n",
    "    \n",
    "</center>"
   ]
  },
  {
   "cell_type": "markdown",
   "metadata": {},
   "source": [
    "We can then code this as:"
   ]
  },
  {
   "cell_type": "code",
   "execution_count": null,
   "metadata": {},
   "outputs": [],
   "source": [
    "if (isDetected):\n",
    "    print(\"Turning lights on.\")\n",
    "else:\n",
    "    print(\"Turning lights off.\")"
   ]
  },
  {
   "cell_type": "markdown",
   "metadata": {},
   "source": [
    "The third case of implications in programming is the appearance of a third or nth condition. In other programming languages thise can be in the form of cases switch statements or \n",
    "else if statements, but for Python it is implemented as elif. The elif statement or any other additional statement can be interjected into the if..else statement as a nestedimplication $a\\rightarrow b$ and its alternative consequent. We can then restructure the wff as:"
   ]
  },
  {
   "cell_type": "markdown",
   "metadata": {},
   "source": [
    "<h3>$$(p\\rightarrow q) \\land  (\\neg p \\rightarrow ((a \\rightarrow b) \\land (\\neg a \\rightarrow b))) $$</h3>"
   ]
  },
  {
   "cell_type": "markdown",
   "metadata": {},
   "source": [
    "Visualizing the wff:"
   ]
  },
  {
   "cell_type": "markdown",
   "metadata": {},
   "source": [
    "<img src=\"img/elif.jpeg\" width=300 align=\"center\"/>"
   ]
  },
  {
   "cell_type": "markdown",
   "metadata": {},
   "source": [
    "We can then thry to increase the number of cases of the previous statement: "
   ]
  },
  {
   "cell_type": "markdown",
   "metadata": {},
   "source": [
    "<center>\n",
    "    <h4>\n",
    "        <i>\n",
    "\"The lights of the room will be turned on slighlty if the sensor detects one person, if there are more than one it turns to the birthests setting, if there are no people the lights will turn off.\"\n",
    "        </i>\n",
    "    </h4>  \n",
    "</center>"
   ]
  },
  {
   "cell_type": "markdown",
   "metadata": {},
   "source": [
    "<center>\n",
    "    We can then formalize this into our wff as: <br>\n",
    "    $p$ = Sensor detects on person <br>\n",
    "    $a$ = Sensor detects more than one person<br><br>\n",
    "    $q$ = The lights turn on slightly<br>\n",
    "    $b$ = The lights turn on fully<br>\n",
    "    $r$ = The lights turn off <br>\n",
    "    $(p\\rightarrow q)\\land(\\neg p\\rightarrow ((a \\rightarrow b) \\land (\\neg a \\rightarrow b)))$\n",
    "    \n",
    "</center>"
   ]
  },
  {
   "cell_type": "markdown",
   "metadata": {},
   "source": [
    "Then we can code it as:"
   ]
  },
  {
   "cell_type": "code",
   "execution_count": null,
   "metadata": {},
   "outputs": [],
   "source": [
    "detection_value = 1\n",
    "if (detection_value == 0):\n",
    "    print(\"Turning lights on (slightly).\")\n",
    "elif (detection_value == 1):\n",
    "    print(\"Turning lights on (to the max!).\")\n",
    "else:\n",
    "    print(\"Turning lights off.\")"
   ]
  },
  {
   "cell_type": "markdown",
   "metadata": {},
   "source": [
    "## Disjunction"
   ]
  },
  {
   "cell_type": "markdown",
   "metadata": {},
   "source": [
    "In contrast with natural language and conversational English that assumes that the \"or\" logical connective is Exclusive, programming logic treats the \"or\" logical connective as an \n",
    "Inclusive Disjunction operation. Disjunction operations require at least two arguments or premises, we can denote them as $p$ and $q$ again and we use the $\\lor$ logical connective.\n",
    "We could then write the wff as:"
   ]
  },
  {
   "cell_type": "markdown",
   "metadata": {},
   "source": [
    "<h3>$$p\\lor q$$</h3>"
   ]
  },
  {
   "cell_type": "markdown",
   "metadata": {},
   "source": [
    "So given that we integrate our disjunction in a conditional statement $(p \\lor q) \\rightarrow r$, the flowchart will be:"
   ]
  },
  {
   "cell_type": "markdown",
   "metadata": {},
   "source": [
    "<img src=\"img/or.jpeg\" width=150 align=\"center\"/>"
   ]
  },
  {
   "cell_type": "markdown",
   "metadata": {},
   "source": [
    "Let's try to analyze the following statement:"
   ]
  },
  {
   "cell_type": "markdown",
   "metadata": {},
   "source": [
    "<center>\n",
    "    <h4>\n",
    "        <i>\n",
    "\"Whenever the customers select \"Opt-in\" or are from Philippines, we send them a newsletter invite.\"\n",
    "        </i>\n",
    "    </h4>  \n",
    "</center>"
   ]
  },
  {
   "cell_type": "markdown",
   "metadata": {},
   "source": [
    "<center>\n",
    "    We can then formalize this into our wff as: <br>\n",
    "    $p$ = Customer selected 'Opt-in' <br>\n",
    "    $q$ = Customer is from Philippines<br>\n",
    "    $r$ = System sends a newsletter invite<br>\n",
    "    $(p \\lor q)\\rightarrow r$\n",
    "    \n",
    "</center>"
   ]
  },
  {
   "cell_type": "code",
   "execution_count": null,
   "metadata": {},
   "outputs": [],
   "source": [
    "selected_optin = True\n",
    "location = 'Canada'\n",
    "if (selected_optin or location == 'Philippines'):\n",
    "    print('Succesfully sent a newsletter invite.')"
   ]
  },
  {
   "cell_type": "markdown",
   "metadata": {},
   "source": [
    "## Conjunction"
   ]
  },
  {
   "cell_type": "markdown",
   "metadata": {},
   "source": [
    "The last connective we will address in this module is the conjuction or the \"and\" operator. Conjunction operations require at least two arguments or premises, we can denote them as \n",
    "$p$ and $q$ again and we use the $\\land$ logical connective. We could then write the wff as:"
   ]
  },
  {
   "cell_type": "markdown",
   "metadata": {},
   "source": [
    "<h3>$$p\\land q$$</h3>"
   ]
  },
  {
   "cell_type": "markdown",
   "metadata": {},
   "source": [
    "And with a flowchart as:"
   ]
  },
  {
   "cell_type": "markdown",
   "metadata": {},
   "source": [
    "<img src=\"img/an.jpeg\" width=200 align=\"center\"/>"
   ]
  },
  {
   "cell_type": "markdown",
   "metadata": {},
   "source": [
    "Consider the statement below:"
   ]
  },
  {
   "cell_type": "markdown",
   "metadata": {},
   "source": [
    "<center>\n",
    "    <h4>\n",
    "        <i>\n",
    "\"If the detected person in the camera is wearing a mask as well as wearing shades, then the alarm should go off.\"\n",
    "        </i>\n",
    "    </h4>  \n",
    "</center>"
   ]
  },
  {
   "cell_type": "markdown",
   "metadata": {},
   "source": [
    "<center>\n",
    "    We can then formalize this into our wff as: <br>\n",
    "    $p$ = Person in camera is wearing a mask <br>\n",
    "    $q$ = Person in camera is wearing shades<br>\n",
    "    $r$ = Sound the alarm<br>\n",
    "    $(p \\land q)\\rightarrow r$\n",
    "    \n",
    "</center>"
   ]
  },
  {
   "cell_type": "markdown",
   "metadata": {},
   "source": [
    "We can code this as:"
   ]
  },
  {
   "cell_type": "code",
   "execution_count": 19,
   "metadata": {},
   "outputs": [],
   "source": [
    "has_mask = True\n",
    "has_shades = False\n",
    "if (has_mask and has_shades):\n",
    "    print(\"Sounding the alarm.\")"
   ]
  },
  {
   "cell_type": "markdown",
   "metadata": {},
   "source": [
    "You might have noticed in the implications section we have not encountered a nested-if statement. I would like to show a trick regarding that, but it would require discussing \n",
    "conjunctions first. So let's say we have this flowchart:"
   ]
  },
  {
   "cell_type": "markdown",
   "metadata": {},
   "source": [
    "<img src=\"img/nest.jpeg\" width=150 align=\"center\"/>"
   ]
  },
  {
   "cell_type": "markdown",
   "metadata": {},
   "source": [
    "You might be more familiar with it's code form as:"
   ]
  },
  {
   "cell_type": "code",
   "execution_count": null,
   "metadata": {},
   "outputs": [],
   "source": [
    "p,q = True, False\n",
    "if (p):\n",
    "    if (q):\n",
    "        print(True)\n",
    "else:\n",
    "    print(False)"
   ]
  },
  {
   "cell_type": "markdown",
   "metadata": {},
   "source": [
    "This can be further simplified as shown below:"
   ]
  },
  {
   "cell_type": "markdown",
   "metadata": {},
   "source": [
    "<img src=\"img/simp.jpeg\" width=500 align=\"center\"/>"
   ]
  },
  {
   "cell_type": "markdown",
   "metadata": {},
   "source": [
    "If you like proofs here's how it was derived:"
   ]
  },
  {
   "cell_type": "markdown",
   "metadata": {},
   "source": [
    "Given wff: $p \\rightarrow (q\\rightarrow r)$ <br>\n",
    "$ = \\neg p \\lor (q\\rightarrow r) : $ Definition of implication<br>\n",
    "$ = \\neg p \\lor (\\neg q \\lor r) : $ Definition of implication<br>\n",
    "$ = (\\neg p \\lor \\neg q)\\lor r : $ Associative Rule<br>\n",
    "$ = \\neg(p \\land q)\\lor r : $ De Morgan's Law<br>\n",
    "$ = (p \\land q)\\rightarrow r : $ Definition of implication<br>"
   ]
  },
  {
   "cell_type": "markdown",
   "metadata": {},
   "source": [
    "## Activities"
   ]
  },
  {
   "cell_type": "markdown",
   "metadata": {},
   "source": [
    "<h4><center><i>Input your statement here.</i></center></h4>"
   ]
  },
  {
   "cell_type": "markdown",
   "metadata": {},
   "source": [
    "<center>Input your $formulas$ here.</center>"
   ]
  },
  {
   "cell_type": "code",
   "execution_count": null,
   "metadata": {},
   "outputs": [],
   "source": [
    "'''\n",
    "ACTIVITY 1 (5 points)\n",
    "\n",
    "You will be given either a statement or a formula as your activity. If you are given a formula please translate them into an English statement, \n",
    "however, if you are given an English statement translate them to a wff. For both cases provide the code below, then run it to display the output.\n",
    "'''\n",
    "### START YOUR CODE BELOW HERE ###\n",
    "\n",
    "\n",
    "\n",
    "### END OF CODE ###"
   ]
  },
  {
   "cell_type": "code",
   "execution_count": null,
   "metadata": {},
   "outputs": [],
   "source": [
    "'''\n",
    "ACTIVITY 2 (5 points)\n",
    "\n",
    "Given the pseudocode provided to you determine the WFF and English statement. For additional points (equivalent to 2 points), derive the simplified\n",
    "flochart and WFF for the given pseudocode.\n",
    "'''\n",
    "### START YOUR CODE BELOW HERE ###\n",
    "\n",
    "\n",
    "\n",
    "### END OF CODE ###"
   ]
  },
  {
   "cell_type": "code",
   "execution_count": null,
   "metadata": {},
   "outputs": [],
   "source": []
  },
  {
   "cell_type": "markdown",
   "metadata": {},
   "source": [
    "## Scratch Area"
   ]
  },
  {
   "cell_type": "markdown",
   "metadata": {},
   "source": [
    "You can use the area below to try your own code."
   ]
  },
  {
   "cell_type": "code",
   "execution_count": null,
   "metadata": {},
   "outputs": [],
   "source": []
  }
 ],
 "metadata": {
  "kernelspec": {
   "display_name": "Python 3",
   "language": "python",
   "name": "python3"
  },
  "language_info": {
   "codemirror_mode": {
    "name": "ipython",
    "version": 3
   },
   "file_extension": ".py",
   "mimetype": "text/x-python",
   "name": "python",
   "nbconvert_exporter": "python",
   "pygments_lexer": "ipython3",
   "version": "3.7.6"
  }
 },
 "nbformat": 4,
 "nbformat_minor": 4
}