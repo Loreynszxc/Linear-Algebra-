{
 "cells": [
  {
   "cell_type": "markdown",
   "metadata": {},
   "source": [
    "<h1>Linear Algebra (CpE210A)</h1>\n",
    "\n"
   ]
  },
  {
   "cell_type": "markdown",
   "metadata": {},
   "source": [
    "<h3>Laboratory 1: Getting Acquainted with Python</h3>\n"
   ]
  },
  {
   "cell_type": "markdown",
   "metadata": {},
   "source": [
    "<p>Coded and submitted by:<br>Guy, Lawrence Adrian, B.<br>58010</p>"
   ]
  },
  {
   "cell_type": "markdown",
   "metadata": {},
   "source": [
    "<h5>Lab Exericses: </h5>\n"
   ]
  },
  {
   "cell_type": "code",
   "execution_count": 1,
   "metadata": {},
   "outputs": [
    {
     "name": "stdout",
     "output_type": "stream",
     "text": [
      "Charmander at level 15\n",
      "Pidgey at level 11\n",
      "Sandshrew at level 18\n",
      "Rattata at level 5\n",
      "Abra at level 14\n"
     ]
    }
   ],
   "source": [
    "party = ['Charmander', 'Pidgey', 'Sandshrew', 'Rattata', 'Abra'] # list for party\n",
    "levels = [15,11,18,5,14] # list for levels\n",
    "result = zip(party,levels)\n",
    "\n",
    "\n",
    "# for loop to print values inside the list of tuples \n",
    "# zip() function is used to return an iterator of tuples wherein it takes the the first value of party list and levels list and make a tuple out of it\n",
    "for pokemons,level in zip(party,levels): print(pokemons,\"at level\", level)"
   ]
  },
  {
   "cell_type": "markdown",
   "metadata": {},
   "source": [
    "<p> Initialized a variable, party, which is a list of strings with names of pokemons in it. Next is a variable named levels that has list of integers with the levels of pokemons.<br>\n",
    "Then, I used a zip function on the list party and levels to take each element of each list and return it as a tuple with two elements that were taken for each of the lists. <br>\n",
    "Lastly, I made a for loop to take the values inside the zip function of party and levels and put it in a new variable named pokemon, and level to print them individually.\n",
    " </p>\n",
    "    "
   ]
  },
  {
   "cell_type": "code",
   "execution_count": 28,
   "metadata": {},
   "outputs": [
    {
     "name": "stdout",
     "output_type": "stream",
     "text": [
      "['Unown', 'Magikarp', 'Feebas']\n"
     ]
    }
   ],
   "source": [
    "reserves= [\n",
    "    ('Onix',10),\n",
    "    ('Slowpoke',18),\n",
    "    ('Dialga', 2),\n",
    "    ('Magikarp', 32),\n",
    "    ('Feebas', 22),\n",
    "    ('Swablu', 19),\n",
    "    ('Regigigas', 3),\n",
    "    ('Unown', 50)\n",
    "] \n",
    "#list of tuples for reserves \n",
    "#picks declared as empty list\n",
    "#sort() method was used to sort the list of tuples based on their levels on a descending order\n",
    "#append() method is used to add the first element/index of reverse list to the picks list\n",
    "#lambda creates an anonymous function\n",
    "picks = []; reserves.sort(key=lambda reserve: reserve[1], reverse = True); picks.append(reserves[0][0]); picks.append(reserves[1][0]); picks.append(reserves[2][0]); print(picks)"
   ]
  },
  {
   "cell_type": "markdown",
   "metadata": {},
   "source": [
    "To sort the given list of tuples to descending order, I used sort() method. First, I initialized an new variable picks as an empty list. Next, I used sort() method on the given list of<br> tuples. The sort() method has 2 parameters, key and reverse. The key parameter takes in one function in this case, I used lambda. Then, I specified the position of the element <br> that is going to be sorted, which is the levels. The other parameter, the reverse parameter which takes in boolean values, if true it will be sorted on a descending order. Lastly, <br> I used the append method to insert the first three elements of the sorted list to the empty list picks. </p>\n"
   ]
  },
  {
   "cell_type": "code",
   "execution_count": 27,
   "metadata": {},
   "outputs": [
    {
     "name": "stdout",
     "output_type": "stream",
     "text": [
      "['Charmander', 'Pidgey', 'Sandshrew', 'Rattata', 'Abra', 'Unown']\n",
      "['Charmander', 'Pidgey', 'Sandshrew', 'Rattata', 'Abra', 'Magikarp']\n",
      "['Charmander', 'Pidgey', 'Sandshrew', 'Rattata', 'Abra', 'Feebas']\n"
     ]
    }
   ],
   "source": [
    "def create_party(new_party,candidates): #Creating a function \n",
    "    new_party = [] #initializing a new_party variable as empty list\n",
    "    new_party.append(candidates[0]) #using append() method to add all the elements of candidates to new_party\n",
    "    new_party.append(candidates[1])\n",
    "    new_party.append(candidates[2])\n",
    "    suggested_parties = new_party #initializing a new variable suggested_parties equals to new_party\n",
    "    return suggested_parties #returning suggested_parties when function is called\n",
    "new_suggested_parties = create_party(party,picks) #initializing the function as a variable\n",
    "for pkmn in new_suggested_parties: #using the new variable to append() it to graded cell 1\n",
    "    party.append(pkmn)\n",
    "    print(party) #using print() function to print the output\n",
    "    party.remove(pkmn) #using remove() method to remove the last element of the list so that it would not exceed to 6 member\n",
    "\n"
   ]
  },
  {
   "cell_type": "markdown",
   "metadata": {},
   "source": [
    "<p>I created a function named create_party which takes in two parameters, new_party and candidates. Inside the function I delcared new_party as an empty list and appended all the <br>elements of candidates to new_party list. I then made a new variable named suggested_parties to be equal to the new_party and return suggested_parties. Outisde the function I <br>declared the function I created as a new variable named new_suggested_parties and inside the parameters I passed two arguments which are, party and picks. I declared the<br> function as a new variable so that I can use it on a for loop which would print the expected output of this graded cell. </p> "
   ]
  },
  {
   "cell_type": "code",
   "execution_count": 15,
   "metadata": {},
   "outputs": [
    {
     "name": "stdout",
     "output_type": "stream",
     "text": [
      "['Charmander', 'Pidgey', 'Sandshrew', 'Rattata', 'Abra', 'Unown']\n",
      "['Charmander', 'Pidgey', 'Sandshrew', 'Rattata', 'Abra', 'Magikarp']\n",
      "['Charmander', 'Pidgey', 'Sandshrew', 'Rattata', 'Abra', 'Feebas']\n"
     ]
    },
    {
     "data": {
      "text/plain": [
       "['Charmander', 'Pidgey', 'Sandshrew', 'Rattata', 'Abra']"
      ]
     },
     "execution_count": 15,
     "metadata": {},
     "output_type": "execute_result"
    }
   ],
   "source": []
  },
  {
   "cell_type": "code",
   "execution_count": null,
   "metadata": {},
   "outputs": [],
   "source": []
  },
  {
   "cell_type": "code",
   "execution_count": null,
   "metadata": {},
   "outputs": [],
   "source": []
  }
 ],
 "metadata": {
  "kernelspec": {
   "display_name": "Python 3",
   "language": "python",
   "name": "python3"
  },
  "language_info": {
   "codemirror_mode": {
    "name": "ipython",
    "version": 3
   },
   "file_extension": ".py",
   "mimetype": "text/x-python",
   "name": "python",
   "nbconvert_exporter": "python",
   "pygments_lexer": "ipython3",
   "version": "3.7.6"
  }
 },
 "nbformat": 4,
 "nbformat_minor": 4
}
