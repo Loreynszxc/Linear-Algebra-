{
 "cells": [
  {
   "cell_type": "code",
   "execution_count": 1,
   "metadata": {},
   "outputs": [],
   "source": [
    "import numpy as np\n",
    "import matplotlib.pyplot as plt\n",
    "%matplotlib inline"
   ]
  },
  {
   "cell_type": "code",
   "execution_count": 2,
   "metadata": {},
   "outputs": [
    {
     "name": "stdout",
     "output_type": "stream",
     "text": [
      "[[ 1  5  0]\n",
      " [ 8 -1 -3]\n",
      " [-2  3  3]]\n",
      "[[ 1  5  0]\n",
      " [ 8 -1 -3]\n",
      " [-2  3  3]]\n"
     ]
    }
   ],
   "source": [
    "## Transpose\n",
    "A = np.array([\n",
    "    [1 ,8, -2],\n",
    "    [5, -1, 3],\n",
    "    [0, -3, 3]\n",
    "])\n",
    "print(A.T)\n",
    "print(np.transpose(A))"
   ]
  },
  {
   "cell_type": "code",
   "execution_count": 18,
   "metadata": {},
   "outputs": [
    {
     "name": "stdout",
     "output_type": "stream",
     "text": [
      "[[10  1]\n",
      " [ 6  2]]\n",
      "[[10  1]\n",
      " [ 6  2]]\n",
      "[[10  1]\n",
      " [ 6  2]]\n"
     ]
    }
   ],
   "source": [
    "## Dot Product\n",
    "B = np.array([\n",
    "    [1,5],\n",
    "    [2,3]\n",
    "])\n",
    "C = np.array([\n",
    "    [0,1],\n",
    "    [2,0]\n",
    "])\n",
    "print(np.dot(B,C))\n",
    "print(B@C)\n",
    "print(np.matmul(B,C))"
   ]
  },
  {
   "cell_type": "code",
   "execution_count": 4,
   "metadata": {},
   "outputs": [
    {
     "name": "stdout",
     "output_type": "stream",
     "text": [
      "[[ 7 10]\n",
      " [15 22]\n",
      " [19 28]]\n",
      "[[31 46]\n",
      " [ 7 10]\n",
      " [ 9 12]]\n"
     ]
    },
    {
     "ename": "ValueError",
     "evalue": "matmul: Input operand 1 has a mismatch in its core dimension 0, with gufunc signature (n?,k),(k,m?)->(n?,m?) (size 3 is different from 2)",
     "output_type": "error",
     "traceback": [
      "\u001b[1;31m---------------------------------------------------------------------------\u001b[0m",
      "\u001b[1;31mValueError\u001b[0m                                Traceback (most recent call last)",
      "\u001b[1;32m<ipython-input-4-c4a984e76a15>\u001b[0m in \u001b[0;36m<module>\u001b[1;34m\u001b[0m\n\u001b[0;32m     17\u001b[0m \u001b[0mprint\u001b[0m\u001b[1;33m(\u001b[0m\u001b[0mD\u001b[0m\u001b[1;33m@\u001b[0m\u001b[0mF\u001b[0m\u001b[1;33m)\u001b[0m\u001b[1;33m\u001b[0m\u001b[1;33m\u001b[0m\u001b[0m\n\u001b[0;32m     18\u001b[0m \u001b[0mprint\u001b[0m\u001b[1;33m(\u001b[0m\u001b[0mE\u001b[0m\u001b[1;33m@\u001b[0m\u001b[0mF\u001b[0m\u001b[1;33m)\u001b[0m\u001b[1;33m\u001b[0m\u001b[1;33m\u001b[0m\u001b[0m\n\u001b[1;32m---> 19\u001b[1;33m \u001b[0mprint\u001b[0m\u001b[1;33m(\u001b[0m\u001b[0mD\u001b[0m\u001b[1;33m@\u001b[0m\u001b[0mE\u001b[0m\u001b[1;33m)\u001b[0m\u001b[1;33m\u001b[0m\u001b[1;33m\u001b[0m\u001b[0m\n\u001b[0m",
      "\u001b[1;31mValueError\u001b[0m: matmul: Input operand 1 has a mismatch in its core dimension 0, with gufunc signature (n?,k),(k,m?)->(n?,m?) (size 3 is different from 2)"
     ]
    }
   ],
   "source": [
    "## Inner dimensions must be equal (a,b)@(b,c)\n",
    "D = np.array([\n",
    "    [1,2],\n",
    "    [3,4],\n",
    "    [4,5]\n",
    "    \n",
    "])\n",
    "E = np.array([\n",
    "    [7,8],\n",
    "    [1,2],\n",
    "    [0,3]\n",
    "])\n",
    "F = np.array([\n",
    "    [1,2],\n",
    "    [3,4]\n",
    "])\n",
    "print(D@F)\n",
    "print(E@F)\n",
    "print(D@E)\n"
   ]
  },
  {
   "cell_type": "markdown",
   "metadata": {},
   "source": [
    "$$ A = \\begin{bmatrix} a \\ b \\\\ c \\ d \\end{bmatrix} \\\\ det(A) \\ or \\ |A| =  a*d - \\ b*c $$"
   ]
  },
  {
   "cell_type": "code",
   "execution_count": 6,
   "metadata": {},
   "outputs": [
    {
     "data": {
      "text/plain": [
       "-7.000000000000001"
      ]
     },
     "execution_count": 6,
     "metadata": {},
     "output_type": "execute_result"
    }
   ],
   "source": [
    "## Determinant\n",
    "B = np.array([\n",
    "    [1,5],\n",
    "    [2,3]\n",
    "])\n",
    "np.linalg.det(B)\n"
   ]
  },
  {
   "cell_type": "code",
   "execution_count": 15,
   "metadata": {},
   "outputs": [
    {
     "data": {
      "text/plain": [
       "array([[1., 0.],\n",
       "       [0., 1.]])"
      ]
     },
     "execution_count": 15,
     "metadata": {},
     "output_type": "execute_result"
    }
   ],
   "source": [
    "## Inverse \n",
    "\n",
    "G = np.array([\n",
    "    [1,5],\n",
    "    [3,9]\n",
    "])\n",
    "inv_G = np.linalg.inv(G)\n",
    "\n",
    "G@inv_G"
   ]
  }
 ],
 "metadata": {
  "kernelspec": {
   "display_name": "Python 3",
   "language": "python",
   "name": "python3"
  },
  "language_info": {
   "codemirror_mode": {
    "name": "ipython",
    "version": 3
   },
   "file_extension": ".py",
   "mimetype": "text/x-python",
   "name": "python",
   "nbconvert_exporter": "python",
   "pygments_lexer": "ipython3",
   "version": "3.7.6"
  }
 },
 "nbformat": 4,
 "nbformat_minor": 4
}
